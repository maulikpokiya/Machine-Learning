{
 "cells": [
  {
   "cell_type": "code",
   "execution_count": 25,
   "metadata": {},
   "outputs": [],
   "source": [
    "from sklearn.linear_model import LinearRegression\n",
    "from sklearn.model_selection import train_test_split"
   ]
  },
  {
   "cell_type": "code",
   "execution_count": 26,
   "metadata": {},
   "outputs": [],
   "source": [
    "%run datasets.ipynb"
   ]
  },
  {
   "cell_type": "code",
   "execution_count": 27,
   "metadata": {},
   "outputs": [
    {
     "name": "stdout",
     "output_type": "stream",
     "text": [
      "Coef_(w):  [0.39390555]\n",
      "Intercept_(y-intercept):  -0.03180434302675973\n"
     ]
    }
   ],
   "source": [
    "# make wave dataset with single feature.\n",
    "X,y = make_wave(n_samples=60)\n",
    "X_train, X_test, y_train, y_test = train_test_split(X, y, random_state=42)\n",
    "\n",
    "lr = LinearRegression().fit(X_train, y_train)\n",
    "print(\"Coef_(w): \", lr.coef_)\n",
    "print(\"Intercept_(y-intercept): \", lr.intercept_)"
   ]
  },
  {
   "cell_type": "code",
   "execution_count": 28,
   "metadata": {},
   "outputs": [
    {
     "name": "stdout",
     "output_type": "stream",
     "text": [
      "Train score:  0.6700890315075756\n",
      "Test score:  0.6593368596863701\n"
     ]
    }
   ],
   "source": [
    "# model is underfitting as Train and Test scores are very similar\n",
    "print(\"Train score: \", lr.score(X_train, y_train))\n",
    "print(\"Test score: \", lr.score(X_test, y_test))"
   ]
  },
  {
   "cell_type": "code",
   "execution_count": 29,
   "metadata": {},
   "outputs": [
    {
     "name": "stdout",
     "output_type": "stream",
     "text": [
      "Coef:  [-4.12710947e+02 -5.22432068e+01 -1.31898815e+02 -1.20041365e+01\n",
      " -1.55107129e+01  2.87163342e+01  5.47040992e+01 -4.95346659e+01\n",
      "  2.65823927e+01  3.70620316e+01 -1.18281674e+01 -1.80581965e+01\n",
      " -1.95246830e+01  1.22025403e+01  2.98078144e+03  1.50084257e+03\n",
      "  1.14187325e+02 -1.69700520e+01  4.09613691e+01 -2.42636646e+01\n",
      "  5.76157466e+01  1.27812142e+03 -2.23986944e+03  2.22825472e+02\n",
      " -2.18201083e+00  4.29960320e+01 -1.33981515e+01 -1.93893485e+01\n",
      " -2.57541277e+00 -8.10130128e+01  9.66019367e+00  4.91423718e+00\n",
      " -8.12114800e-01 -7.64694179e+00  3.37837099e+01 -1.14464390e+01\n",
      "  6.85083979e+01 -1.73753604e+01  4.28128204e+01  1.13988209e+00\n",
      " -7.72696840e-01  5.68255921e+01  1.42875996e+01  5.39551110e+01\n",
      " -3.21709644e+01  1.92709675e+01 -1.38852338e+01  6.06343266e+01\n",
      " -1.23153942e+01 -1.20041365e+01 -1.77243899e+01 -3.39868183e+01\n",
      "  7.08999816e+00 -9.22538241e+00  1.71980268e+01 -1.27718431e+01\n",
      " -1.19727581e+01  5.73871915e+01 -1.75331865e+01  4.10103194e+00\n",
      "  2.93666477e+01 -1.76611772e+01  7.84049424e+01 -3.19098015e+01\n",
      "  4.81752461e+01 -3.95344813e+01  5.22959055e+00  2.19982410e+01\n",
      "  2.56483934e+01 -4.99982035e+01  2.91457545e+01  8.94267456e+00\n",
      " -7.16599297e+01 -2.28147862e+01  8.40660981e+00 -5.37905422e+00\n",
      "  1.20137322e+00 -5.20877186e+00  4.11452351e+01 -3.78250760e+01\n",
      " -2.67163851e+00 -2.55217108e+01 -3.33982030e+01  4.62272693e+01\n",
      " -2.41509169e+01 -1.77532970e+01 -1.39723701e+01 -2.35522208e+01\n",
      "  3.68353800e+01 -9.46890859e+01  1.44302810e+02 -1.51158659e+01\n",
      " -1.49513436e+01 -2.87729579e+01 -3.17673192e+01  2.49551594e+01\n",
      " -1.84384534e+01  3.65073948e+00  1.73101122e+00  3.53617137e+01\n",
      "  1.19553429e+01  6.77025947e-01  2.73452009e+00  3.03720012e+01]\n",
      "Intercept:  30.93456367364112\n"
     ]
    }
   ],
   "source": [
    "# extended boston dataset with multiple(104) features\n",
    "X, y = load_extended_boston()\n",
    "X_train, X_test, y_train, y_test = train_test_split(X, y, random_state=0)\n",
    "\n",
    "lrb = LinearRegression().fit(X_train, y_train)\n",
    "print('Coef: ', lrb.coef_) # total number coef will be equals to number of features\n",
    "print('Intercept: ', lrb.intercept_)"
   ]
  },
  {
   "cell_type": "code",
   "execution_count": 30,
   "metadata": {},
   "outputs": [
    {
     "name": "stdout",
     "output_type": "stream",
     "text": [
      "Train score:  0.9520519609032729\n",
      "Test score:  0.6074721959665842\n"
     ]
    }
   ],
   "source": [
    "# This much descripency in train and test scores means model is overfitting\n",
    "print('Train score: ', lrb.score(X_train, y_train))\n",
    "print('Test score: ', lrb.score(X_test, y_test))"
   ]
  },
  {
   "cell_type": "code",
   "execution_count": 45,
   "metadata": {},
   "outputs": [
    {
     "name": "stdout",
     "output_type": "stream",
     "text": [
      "Train score: 0.89\n",
      "Test score: 0.75\n"
     ]
    }
   ],
   "source": [
    "from sklearn.linear_model import Ridge\n",
    "\n",
    "rdg1 = Ridge().fit(X_train, y_train)\n",
    "\n",
    "# Train score is lower and Test score is higher as compared to Linear Regression model\n",
    "# means LR model was overfitting is proven.\n",
    "print('Train score: {:.2f}'.format(rdg1.score(X_train, y_train)))\n",
    "print('Test score: {:.2f}'.format(rdg1.score(X_test, y_test)))\n",
    "print(rdg1.alpha)"
   ]
  },
  {
   "cell_type": "code",
   "execution_count": 46,
   "metadata": {},
   "outputs": [
    {
     "name": "stdout",
     "output_type": "stream",
     "text": [
      "Train score:  0.9083748995060447\n",
      "Test score:  0.7705471512507132\n"
     ]
    }
   ],
   "source": [
    "# Increasing alpha forces coefficients to move more toward zero, \n",
    "# which decreases training set performance but might help generalization.\n",
    "# Default is alpha=1.0 (alpha=0 means Linear Regression)\n",
    "rdg4 = Ridge(alpha=0.4).fit(X_train, y_train)\n",
    "\n",
    "print('Train score: ', rdg4.score(X_train, y_train))\n",
    "print('Test score: ', rdg4.score(X_test, y_test))"
   ]
  },
  {
   "cell_type": "code",
   "execution_count": 47,
   "metadata": {},
   "outputs": [
    {
     "name": "stdout",
     "output_type": "stream",
     "text": [
      "Train score:  0.7882787115369614\n",
      "Test score:  0.6359411489177309\n"
     ]
    }
   ],
   "source": [
    "rdg10 = Ridge(alpha=10).fit(X_train, y_train)\n",
    "\n",
    "print('Train score: ', rdg10.score(X_train, y_train))\n",
    "print('Test score: ', rdg10.score(X_test, y_test))"
   ]
  },
  {
   "cell_type": "code",
   "execution_count": 51,
   "metadata": {},
   "outputs": [
    {
     "data": {
      "image/png": "[encoded data removed]",
      "text/plain": [
       "<Figure size 432x288 with 1 Axes>"
      ]
     },
     "metadata": {
      "needs_background": "light"
     },
     "output_type": "display_data"
    }
   ],
   "source": [
    "import matplotlib.pyplot as plt\n",
    "\n",
    "plt.plot(rdg1.coef_, 's', label=\"Ridge alpha=1\")\n",
    "plt.plot(rdg4.coef_, '^', label=\"Ridge alpha=0.4\")\n",
    "plt.plot(rdg10.coef_, 'v', label=\"Ridge alpha=10\")\n",
    "\n",
    "plt.plot(lrb.coef_, 'o', label=\"LinearRegression\")\n",
    "plt.xlabel(\"Coefficient index\")\n",
    "plt.ylabel(\"Coefficient magnitude\")\n",
    "plt.hlines(0, 0, len(lrb.coef_))\n",
    "plt.ylim(-25, 25)\n",
    "plt.legend()\n",
    "plt.show()\n",
    "# as can be seen in graph, as alpha increases, coef_ values decreases (moves closer to zero)."
   ]
  },
  {
   "cell_type": "code",
   "execution_count": 53,
   "metadata": {},
   "outputs": [
    {
     "name": "stdout",
     "output_type": "stream",
     "text": [
      "Train score:  0.29323768991114607\n",
      "Test score:  0.20937503255272294\n",
      "Number of features useed:  4\n",
      "1.0\n",
      "1000\n"
     ]
    }
   ],
   "source": [
    "from sklearn.linear_model import Lasso\n",
    "\n",
    "# alpha is 1.0 by default, when decreasig alpha, we also need to increase max_iter\n",
    "# If alpha is too low, we remove the regularization and end up overfitting, with a result similar to LinearRegression\n",
    "ls = Lasso().fit(X_train, y_train)\n",
    "\n",
    "print('Train score: ', ls.score(X_train, y_train))\n",
    "print('Test score: ', ls.score(X_test, y_test))\n",
    "print('Number of features useed: ', np.sum(ls.coef_!=0))\n",
    "print(ls.alpha)\n",
    "print(ls.max_iter)"
   ]
  },
  {
   "cell_type": "code",
   "execution_count": 55,
   "metadata": {},
   "outputs": [
    {
     "name": "stdout",
     "output_type": "stream",
     "text": [
      "Train score:  0.8962226511086501\n",
      "Test score:  0.7656571174549989\n",
      "Number of features useed:  33\n"
     ]
    }
   ],
   "source": [
    "ls001 = Lasso(alpha=0.01, max_iter=100000).fit(X_train, y_train)\n",
    "\n",
    "print('Train score: ', ls001.score(X_train, y_train))\n",
    "print('Test score: ', ls001.score(X_test, y_test))\n",
    "print('Number of features useed: ', np.sum(ls001.coef_!=0))"
   ]
  },
  {
   "cell_type": "code",
   "execution_count": 56,
   "metadata": {},
   "outputs": [
    {
     "name": "stdout",
     "output_type": "stream",
     "text": [
      "Training set score: 0.95\n",
      "Test set score: 0.64\n",
      "Number of features used: 96\n"
     ]
    }
   ],
   "source": [
    "ls0001 = Lasso(alpha=0.0001, max_iter=100000).fit(X_train, y_train)\n",
    "print(\"Training set score: {:.2f}\".format(ls0001.score(X_train, y_train)))\n",
    "print(\"Test set score: {:.2f}\".format(ls0001.score(X_test, y_test)))\n",
    "print(\"Number of features used:\", np.sum(ls0001.coef_ != 0))"
   ]
  },
  {
   "cell_type": "code",
   "execution_count": 57,
   "metadata": {},
   "outputs": [
    {
     "data": {
      "text/plain": [
       "Text(0, 0.5, 'Coefficient magnitude')"
      ]
     },
     "execution_count": 57,
     "metadata": {},
     "output_type": "execute_result"
    },
    {
     "data": {
      "image/png": "[encoded data removed]",
      "text/plain": [
       "<Figure size 432x288 with 1 Axes>"
      ]
     },
     "metadata": {
      "needs_background": "light"
     },
     "output_type": "display_data"
    }
   ],
   "source": [
    "plt.plot(ls.coef_, 's', label=\"Lasso alpha=1\")\n",
    "plt.plot(ls001.coef_, '^', label=\"Lasso alpha=0.01\")\n",
    "plt.plot(ls0001.coef_, 'v', label=\"Lasso alpha=0.0001\")\n",
    "\n",
    "plt.plot(rdg4.coef_, 'o', label=\"Ridge alpha=0.4\")\n",
    "plt.legend(ncol=2, loc=(0, 1.05))\n",
    "plt.ylim(-25, 25)\n",
    "plt.xlabel(\"Coefficient index\")\n",
    "plt.ylabel(\"Coefficient magnitude\")"
   ]
  },
  {
   "cell_type": "code",
   "execution_count": null,
   "metadata": {},
   "outputs": [],
   "source": []
  }
 ],
 "metadata": {
  "kernelspec": {
   "display_name": "Python 3",
   "language": "python",
   "name": "python3"
  },
  "language_info": {
   "codemirror_mode": {
    "name": "ipython",
    "version": 3
   },
   "file_extension": ".py",
   "mimetype": "text/x-python",
   "name": "python",
   "nbconvert_exporter": "python",
   "pygments_lexer": "ipython3",
   "version": "3.7.6"
  }
 },
 "nbformat": 4,
 "nbformat_minor": 4
}
