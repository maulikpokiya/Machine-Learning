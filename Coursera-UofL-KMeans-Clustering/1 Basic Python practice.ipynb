{
 "cells": [
  {
   "cell_type": "markdown",
   "metadata": {},
   "source": [
    "# This is title\n",
    "## This is a subtitle\n",
    "* Bullet 1\n",
    "* Bullet 2\n"
   ]
  },
  {
   "cell_type": "code",
   "execution_count": 1,
   "metadata": {},
   "outputs": [
    {
     "name": "stdout",
     "output_type": "stream",
     "text": [
      "Hello, This is Maulik from Toronto!\n"
     ]
    }
   ],
   "source": [
    "print(\"Hello, This is Maulik from Toronto!\")"
   ]
  },
  {
   "cell_type": "code",
   "execution_count": 2,
   "metadata": {},
   "outputs": [
    {
     "name": "stdout",
     "output_type": "stream",
     "text": [
      "40\n"
     ]
    }
   ],
   "source": [
    "age = 25\n",
    "age = 30\n",
    "age = age + 10\n",
    "print(age)"
   ]
  },
  {
   "cell_type": "code",
   "execution_count": 4,
   "metadata": {},
   "outputs": [],
   "source": [
    "my_age = 100\n",
    "your_age = 200"
   ]
  },
  {
   "cell_type": "code",
   "execution_count": 5,
   "metadata": {},
   "outputs": [
    {
     "name": "stdout",
     "output_type": "stream",
     "text": [
      "300\n"
     ]
    }
   ],
   "source": [
    "print(my_age+your_age)"
   ]
  },
  {
   "cell_type": "code",
   "execution_count": 7,
   "metadata": {},
   "outputs": [
    {
     "name": "stdout",
     "output_type": "stream",
     "text": [
      "[10, 24, 45, 59, 86]\n",
      "44.8\n"
     ]
    }
   ],
   "source": [
    "ages = [10, 24, 45, 59, 86]\n",
    "print(ages)\n",
    "summed_ages = ages[0] + ages[1] + ages[2] + ages[3] + ages[4]\n",
    "mean_age = summed_age / 5\n",
    "print(mean_age)"
   ]
  },
  {
   "cell_type": "code",
   "execution_count": 8,
   "metadata": {},
   "outputs": [
    {
     "name": "stdout",
     "output_type": "stream",
     "text": [
      "44.8\n"
     ]
    }
   ],
   "source": [
    "ages = [10, 24, 45, 59, 86]\n",
    "summed_ages = sum(ages)\n",
    "\n",
    "mean_age = summed_ages / len(ages)\n",
    "print(mean_age)"
   ]
  },
  {
   "cell_type": "code",
   "execution_count": 5,
   "metadata": {},
   "outputs": [
    {
     "name": "stdout",
     "output_type": "stream",
     "text": [
      "50.333333333333336\n"
     ]
    }
   ],
   "source": [
    "ages = [10, 24, 45, 59, 86, 78]\n",
    "mean_age = sum(ages)/len(ages)\n",
    "print(mean_age)"
   ]
  }
 ],
 "metadata": {
  "kernelspec": {
   "display_name": "Python 3",
   "language": "python",
   "name": "python3"
  },
  "language_info": {
   "codemirror_mode": {
    "name": "ipython",
    "version": 3
   },
   "file_extension": ".py",
   "mimetype": "text/x-python",
   "name": "python",
   "nbconvert_exporter": "python",
   "pygments_lexer": "ipython3",
   "version": "3.6.3"
  }
 },
 "nbformat": 4,
 "nbformat_minor": 2
}
