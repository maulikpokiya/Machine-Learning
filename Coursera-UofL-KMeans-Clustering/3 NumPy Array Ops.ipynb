{
 "cells": [
  {
   "cell_type": "code",
   "execution_count": 3,
   "metadata": {},
   "outputs": [
    {
     "data": {
      "text/plain": [
       "numpy.ndarray"
      ]
     },
     "execution_count": 3,
     "metadata": {},
     "output_type": "execute_result"
    }
   ],
   "source": [
    "import numpy as np\n",
    "\n",
    "ages = [10, 24, 45, 59, 86, 78]\n",
    "ages = np.array(ages)\n",
    "type(ages)"
   ]
  },
  {
   "cell_type": "code",
   "execution_count": 4,
   "metadata": {},
   "outputs": [
    {
     "name": "stdout",
     "output_type": "stream",
     "text": [
      "86\n",
      "10\n",
      "302\n",
      "50.333333333333336\n",
      "50.333333333333336\n"
     ]
    }
   ],
   "source": [
    "print(ages.max())\n",
    "print(ages.min())\n",
    "print(ages.sum())\n",
    "print(ages.mean())\n",
    "print(np.average(ages))"
   ]
  },
  {
   "cell_type": "code",
   "execution_count": 5,
   "metadata": {},
   "outputs": [
    {
     "name": "stdout",
     "output_type": "stream",
     "text": [
      "27.268215114956746 [10 24 45 59 86 78]\n"
     ]
    }
   ],
   "source": [
    "mean = ages.mean()\n",
    "dists = ages - mean\n",
    "dists = dists * dists\n",
    "summed_dists = np.sum(dists)\n",
    "avg_dists = summed_dists / len(ages)\n",
    "std_dists = np.sqrt(avg_dists)\n",
    "print(std_dists, ages)"
   ]
  },
  {
   "cell_type": "code",
   "execution_count": 4,
   "metadata": {},
   "outputs": [
    {
     "name": "stdout",
     "output_type": "stream",
     "text": [
      "27.268215114956746\n"
     ]
    }
   ],
   "source": [
    "std_dev = np.std(ages)\n",
    "print(std_dev)"
   ]
  }
 ],
 "metadata": {
  "kernelspec": {
   "display_name": "Python 3",
   "language": "python",
   "name": "python3"
  },
  "language_info": {
   "codemirror_mode": {
    "name": "ipython",
    "version": 3
   },
   "file_extension": ".py",
   "mimetype": "text/x-python",
   "name": "python",
   "nbconvert_exporter": "python",
   "pygments_lexer": "ipython3",
   "version": "3.6.3"
  }
 },
 "nbformat": 4,
 "nbformat_minor": 2
}
