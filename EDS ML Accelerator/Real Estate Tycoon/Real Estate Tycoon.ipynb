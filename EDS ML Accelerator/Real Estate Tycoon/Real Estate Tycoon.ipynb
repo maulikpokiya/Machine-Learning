{
 "cells": [
  {
   "cell_type": "markdown",
   "metadata": {},
   "source": [
    "## <strong style=\"color:RoyalBlue\">Introduction</strong>"
   ]
  },
  {
   "cell_type": "markdown",
   "metadata": {},
   "source": [
    "* The real estate dataset has 1883 observations in the county where the REIT operates.\n",
    "* Each observation is for the transaction of one property only.\n",
    "* Each transaction was between 200,000 and 800,000."
   ]
  },
  {
   "cell_type": "markdown",
   "metadata": {},
   "source": [
    "We have the following features:\n",
    "\n",
    "Target variable\n",
    "* 'tx_price' - Transaction price in USD\n",
    "\n",
    "Public records for the property\n",
    "* 'tx_year' - Year the transaction took place\n",
    "* 'property_tax' - Monthly property tax\n",
    "* 'insurance' - Cost of monthly homeowner's insurance\n",
    "\n",
    "Property characteristics\n",
    "* 'beds' - Number of bedrooms\n",
    "* 'baths' - Number of bathrooms\n",
    "* 'sqft' - Total floor area in squared feet\n",
    "* 'lot_size' - Total outside area in squared feet\n",
    "* 'year_built' - Year property was built\n",
    "* 'basement' - Does the property have a basement?\n",
    "\n",
    "Location convenience scores\n",
    "* 'restaurants' - Number of restaurants within 1 mile\n",
    "* 'groceries' - Number of grocery stores within 1 mile\n",
    "* 'nightlife' - Number of nightlife venues within 1 mile\n",
    "* 'cafes' - Number of cafes within 1 mile\n",
    "* 'shopping' - Number of stores within 1 mile\n",
    "* 'arts_entertainment' - Number of arts and entertainment venues within 1 mile\n",
    "* 'beauty_spas' - Number of beauty and spa locations within 1 mile\n",
    "* 'active_life' - Number of gyms, yoga studios, and sports venues within 1 mile\n",
    "\n",
    "Neighborhood demographics\n",
    "* 'median_age' - Median age of the neighborhood\n",
    "* 'married' - Percent of neighborhood who are married\n",
    "* 'college_grad' - Percent of neighborhood who graduated college\n",
    "\n",
    "Schools\n",
    "* 'num_schools' - Number of public schools within district\n",
    "* 'median_school' - Median score of the public schools within district, on the range 1 - 10"
   ]
  },
  {
   "cell_type": "markdown",
   "metadata": {},
   "source": [
    "## <strong style=\"color:RoyalBlue\">Library Imports</strong>"
   ]
  },
  {
   "cell_type": "code",
   "execution_count": 1,
   "metadata": {},
   "outputs": [],
   "source": [
    "import numpy as np\n",
    "import pandas as pd\n",
    "import matplotlib.pyplot as plt\n",
    "import seaborn as sns\n",
    "\n",
    "sns.set_style('darkgrid')\n",
    "pd.set_option('display.max_columns',100)"
   ]
  },
  {
   "cell_type": "code",
   "execution_count": 2,
   "metadata": {},
   "outputs": [],
   "source": [
    "from sklearn.linear_model import Lasso, Ridge, ElasticNet\n",
    "\n",
    "from sklearn.ensemble import RandomForestRegressor, GradientBoostingRegressor"
   ]
  },
  {
   "cell_type": "code",
   "execution_count": 3,
   "metadata": {},
   "outputs": [],
   "source": [
    "from sklearn.model_selection import train_test_split\n",
    "\n",
    "from sklearn.pipeline import make_pipeline\n",
    "\n",
    "from sklearn.preprocessing import StandardScaler\n",
    "\n",
    "from sklearn.model_selection import GridSearchCV\n",
    "\n",
    "import pickle"
   ]
  },
  {
   "cell_type": "code",
   "execution_count": 4,
   "metadata": {},
   "outputs": [],
   "source": [
    "from sklearn.metrics import r2_score\n",
    "\n",
    "from sklearn.metrics import mean_absolute_error"
   ]
  },
  {
   "cell_type": "code",
   "execution_count": 5,
   "metadata": {},
   "outputs": [
    {
     "data": {
      "text/plain": [
       "(1883, 26)"
      ]
     },
     "execution_count": 5,
     "metadata": {},
     "output_type": "execute_result"
    }
   ],
   "source": [
    "df = pd.read_csv('real_estate_data.csv')\n",
    "df.shape"
   ]
  },
  {
   "cell_type": "code",
   "execution_count": 6,
   "metadata": {},
   "outputs": [
    {
     "data": {
      "text/html": [
       "<div>\n",
       "<style scoped>\n",
       "    .dataframe tbody tr th:only-of-type {\n",
       "        vertical-align: middle;\n",
       "    }\n",
       "\n",
       "    .dataframe tbody tr th {\n",
       "        vertical-align: top;\n",
       "    }\n",
       "\n",
       "    .dataframe thead th {\n",
       "        text-align: right;\n",
       "    }\n",
       "</style>\n",
       "<table border=\"1\" class=\"dataframe\">\n",
       "  <thead>\n",
       "    <tr style=\"text-align: right;\">\n",
       "      <th></th>\n",
       "      <th>tx_price</th>\n",
       "      <th>beds</th>\n",
       "      <th>baths</th>\n",
       "      <th>sqft</th>\n",
       "      <th>year_built</th>\n",
       "      <th>lot_size</th>\n",
       "      <th>property_type</th>\n",
       "      <th>exterior_walls</th>\n",
       "      <th>roof</th>\n",
       "      <th>basement</th>\n",
       "      <th>restaurants</th>\n",
       "      <th>groceries</th>\n",
       "      <th>nightlife</th>\n",
       "      <th>cafes</th>\n",
       "      <th>shopping</th>\n",
       "      <th>arts_entertainment</th>\n",
       "      <th>beauty_spas</th>\n",
       "      <th>active_life</th>\n",
       "      <th>median_age</th>\n",
       "      <th>married</th>\n",
       "      <th>college_grad</th>\n",
       "      <th>property_tax</th>\n",
       "      <th>insurance</th>\n",
       "      <th>median_school</th>\n",
       "      <th>num_schools</th>\n",
       "      <th>tx_year</th>\n",
       "    </tr>\n",
       "  </thead>\n",
       "  <tbody>\n",
       "    <tr>\n",
       "      <th>0</th>\n",
       "      <td>295850</td>\n",
       "      <td>1</td>\n",
       "      <td>1</td>\n",
       "      <td>584</td>\n",
       "      <td>2013</td>\n",
       "      <td>0</td>\n",
       "      <td>Apartment / Condo / Townhouse</td>\n",
       "      <td>Wood Siding</td>\n",
       "      <td>NaN</td>\n",
       "      <td>NaN</td>\n",
       "      <td>107</td>\n",
       "      <td>9</td>\n",
       "      <td>30</td>\n",
       "      <td>19</td>\n",
       "      <td>89</td>\n",
       "      <td>6</td>\n",
       "      <td>47</td>\n",
       "      <td>58</td>\n",
       "      <td>33.0</td>\n",
       "      <td>65.0</td>\n",
       "      <td>84.0</td>\n",
       "      <td>234.0</td>\n",
       "      <td>81.0</td>\n",
       "      <td>9.0</td>\n",
       "      <td>3.0</td>\n",
       "      <td>2013</td>\n",
       "    </tr>\n",
       "    <tr>\n",
       "      <th>1</th>\n",
       "      <td>216500</td>\n",
       "      <td>1</td>\n",
       "      <td>1</td>\n",
       "      <td>612</td>\n",
       "      <td>1965</td>\n",
       "      <td>0</td>\n",
       "      <td>Apartment / Condo / Townhouse</td>\n",
       "      <td>Brick</td>\n",
       "      <td>Composition Shingle</td>\n",
       "      <td>1.0</td>\n",
       "      <td>105</td>\n",
       "      <td>15</td>\n",
       "      <td>6</td>\n",
       "      <td>13</td>\n",
       "      <td>87</td>\n",
       "      <td>2</td>\n",
       "      <td>26</td>\n",
       "      <td>14</td>\n",
       "      <td>39.0</td>\n",
       "      <td>73.0</td>\n",
       "      <td>69.0</td>\n",
       "      <td>169.0</td>\n",
       "      <td>51.0</td>\n",
       "      <td>3.0</td>\n",
       "      <td>3.0</td>\n",
       "      <td>2006</td>\n",
       "    </tr>\n",
       "    <tr>\n",
       "      <th>2</th>\n",
       "      <td>279900</td>\n",
       "      <td>1</td>\n",
       "      <td>1</td>\n",
       "      <td>615</td>\n",
       "      <td>1963</td>\n",
       "      <td>0</td>\n",
       "      <td>Apartment / Condo / Townhouse</td>\n",
       "      <td>Wood Siding</td>\n",
       "      <td>NaN</td>\n",
       "      <td>NaN</td>\n",
       "      <td>183</td>\n",
       "      <td>13</td>\n",
       "      <td>31</td>\n",
       "      <td>30</td>\n",
       "      <td>101</td>\n",
       "      <td>10</td>\n",
       "      <td>74</td>\n",
       "      <td>62</td>\n",
       "      <td>28.0</td>\n",
       "      <td>15.0</td>\n",
       "      <td>86.0</td>\n",
       "      <td>216.0</td>\n",
       "      <td>74.0</td>\n",
       "      <td>8.0</td>\n",
       "      <td>3.0</td>\n",
       "      <td>2012</td>\n",
       "    </tr>\n",
       "    <tr>\n",
       "      <th>3</th>\n",
       "      <td>379900</td>\n",
       "      <td>1</td>\n",
       "      <td>1</td>\n",
       "      <td>618</td>\n",
       "      <td>2000</td>\n",
       "      <td>33541</td>\n",
       "      <td>Apartment / Condo / Townhouse</td>\n",
       "      <td>Wood Siding</td>\n",
       "      <td>NaN</td>\n",
       "      <td>NaN</td>\n",
       "      <td>198</td>\n",
       "      <td>9</td>\n",
       "      <td>38</td>\n",
       "      <td>25</td>\n",
       "      <td>127</td>\n",
       "      <td>11</td>\n",
       "      <td>72</td>\n",
       "      <td>83</td>\n",
       "      <td>36.0</td>\n",
       "      <td>25.0</td>\n",
       "      <td>91.0</td>\n",
       "      <td>265.0</td>\n",
       "      <td>92.0</td>\n",
       "      <td>9.0</td>\n",
       "      <td>3.0</td>\n",
       "      <td>2005</td>\n",
       "    </tr>\n",
       "    <tr>\n",
       "      <th>4</th>\n",
       "      <td>340000</td>\n",
       "      <td>1</td>\n",
       "      <td>1</td>\n",
       "      <td>634</td>\n",
       "      <td>1992</td>\n",
       "      <td>0</td>\n",
       "      <td>Apartment / Condo / Townhouse</td>\n",
       "      <td>Brick</td>\n",
       "      <td>NaN</td>\n",
       "      <td>NaN</td>\n",
       "      <td>149</td>\n",
       "      <td>7</td>\n",
       "      <td>22</td>\n",
       "      <td>20</td>\n",
       "      <td>83</td>\n",
       "      <td>10</td>\n",
       "      <td>50</td>\n",
       "      <td>73</td>\n",
       "      <td>37.0</td>\n",
       "      <td>20.0</td>\n",
       "      <td>75.0</td>\n",
       "      <td>88.0</td>\n",
       "      <td>30.0</td>\n",
       "      <td>9.0</td>\n",
       "      <td>3.0</td>\n",
       "      <td>2002</td>\n",
       "    </tr>\n",
       "  </tbody>\n",
       "</table>\n",
       "</div>"
      ],
      "text/plain": [
       "   tx_price  beds  baths  sqft  year_built  lot_size  \\\n",
       "0    295850     1      1   584        2013         0   \n",
       "1    216500     1      1   612        1965         0   \n",
       "2    279900     1      1   615        1963         0   \n",
       "3    379900     1      1   618        2000     33541   \n",
       "4    340000     1      1   634        1992         0   \n",
       "\n",
       "                   property_type exterior_walls                 roof  \\\n",
       "0  Apartment / Condo / Townhouse    Wood Siding                  NaN   \n",
       "1  Apartment / Condo / Townhouse          Brick  Composition Shingle   \n",
       "2  Apartment / Condo / Townhouse    Wood Siding                  NaN   \n",
       "3  Apartment / Condo / Townhouse    Wood Siding                  NaN   \n",
       "4  Apartment / Condo / Townhouse          Brick                  NaN   \n",
       "\n",
       "   basement  restaurants  groceries  nightlife  cafes  shopping  \\\n",
       "0       NaN          107          9         30     19        89   \n",
       "1       1.0          105         15          6     13        87   \n",
       "2       NaN          183         13         31     30       101   \n",
       "3       NaN          198          9         38     25       127   \n",
       "4       NaN          149          7         22     20        83   \n",
       "\n",
       "   arts_entertainment  beauty_spas  active_life  median_age  married  \\\n",
       "0                   6           47           58        33.0     65.0   \n",
       "1                   2           26           14        39.0     73.0   \n",
       "2                  10           74           62        28.0     15.0   \n",
       "3                  11           72           83        36.0     25.0   \n",
       "4                  10           50           73        37.0     20.0   \n",
       "\n",
       "   college_grad  property_tax  insurance  median_school  num_schools  tx_year  \n",
       "0          84.0         234.0       81.0            9.0          3.0     2013  \n",
       "1          69.0         169.0       51.0            3.0          3.0     2006  \n",
       "2          86.0         216.0       74.0            8.0          3.0     2012  \n",
       "3          91.0         265.0       92.0            9.0          3.0     2005  \n",
       "4          75.0          88.0       30.0            9.0          3.0     2002  "
      ]
     },
     "execution_count": 6,
     "metadata": {},
     "output_type": "execute_result"
    }
   ],
   "source": [
    "df.head()"
   ]
  },
  {
   "cell_type": "markdown",
   "metadata": {},
   "source": [
    "## <strong style=\"color:RoyalBlue\">Exploratory Analysis</strong>"
   ]
  },
  {
   "cell_type": "code",
   "execution_count": 7,
   "metadata": {},
   "outputs": [
    {
     "data": {
      "text/plain": [
       "tx_price                int64\n",
       "beds                    int64\n",
       "baths                   int64\n",
       "sqft                    int64\n",
       "year_built              int64\n",
       "lot_size                int64\n",
       "property_type          object\n",
       "exterior_walls         object\n",
       "roof                   object\n",
       "basement              float64\n",
       "restaurants             int64\n",
       "groceries               int64\n",
       "nightlife               int64\n",
       "cafes                   int64\n",
       "shopping                int64\n",
       "arts_entertainment      int64\n",
       "beauty_spas             int64\n",
       "active_life             int64\n",
       "median_age            float64\n",
       "married               float64\n",
       "college_grad          float64\n",
       "property_tax          float64\n",
       "insurance             float64\n",
       "median_school         float64\n",
       "num_schools           float64\n",
       "tx_year                 int64\n",
       "dtype: object"
      ]
     },
     "execution_count": 7,
     "metadata": {},
     "output_type": "execute_result"
    }
   ],
   "source": [
    "df.dtypes"
   ]
  },
  {
   "cell_type": "code",
   "execution_count": 8,
   "metadata": {},
   "outputs": [
    {
     "data": {
      "text/html": [
       "<div>\n",
       "<style scoped>\n",
       "    .dataframe tbody tr th:only-of-type {\n",
       "        vertical-align: middle;\n",
       "    }\n",
       "\n",
       "    .dataframe tbody tr th {\n",
       "        vertical-align: top;\n",
       "    }\n",
       "\n",
       "    .dataframe thead th {\n",
       "        text-align: right;\n",
       "    }\n",
       "</style>\n",
       "<table border=\"1\" class=\"dataframe\">\n",
       "  <thead>\n",
       "    <tr style=\"text-align: right;\">\n",
       "      <th></th>\n",
       "      <th>tx_price</th>\n",
       "      <th>beds</th>\n",
       "      <th>baths</th>\n",
       "      <th>sqft</th>\n",
       "      <th>year_built</th>\n",
       "      <th>lot_size</th>\n",
       "      <th>basement</th>\n",
       "      <th>restaurants</th>\n",
       "      <th>groceries</th>\n",
       "      <th>nightlife</th>\n",
       "      <th>cafes</th>\n",
       "      <th>shopping</th>\n",
       "      <th>arts_entertainment</th>\n",
       "      <th>beauty_spas</th>\n",
       "      <th>active_life</th>\n",
       "      <th>median_age</th>\n",
       "      <th>married</th>\n",
       "      <th>college_grad</th>\n",
       "      <th>property_tax</th>\n",
       "      <th>insurance</th>\n",
       "      <th>median_school</th>\n",
       "      <th>num_schools</th>\n",
       "      <th>tx_year</th>\n",
       "    </tr>\n",
       "  </thead>\n",
       "  <tbody>\n",
       "    <tr>\n",
       "      <th>count</th>\n",
       "      <td>1883.000000</td>\n",
       "      <td>1883.000000</td>\n",
       "      <td>1883.000000</td>\n",
       "      <td>1883.000000</td>\n",
       "      <td>1883.000000</td>\n",
       "      <td>1.883000e+03</td>\n",
       "      <td>1657.0</td>\n",
       "      <td>1883.000000</td>\n",
       "      <td>1883.000000</td>\n",
       "      <td>1883.000000</td>\n",
       "      <td>1883.000000</td>\n",
       "      <td>1883.000000</td>\n",
       "      <td>1883.000000</td>\n",
       "      <td>1883.000000</td>\n",
       "      <td>1883.000000</td>\n",
       "      <td>1883.000000</td>\n",
       "      <td>1883.000000</td>\n",
       "      <td>1883.000000</td>\n",
       "      <td>1883.000000</td>\n",
       "      <td>1883.000000</td>\n",
       "      <td>1883.000000</td>\n",
       "      <td>1883.000000</td>\n",
       "      <td>1883.000000</td>\n",
       "    </tr>\n",
       "    <tr>\n",
       "      <th>mean</th>\n",
       "      <td>422839.807754</td>\n",
       "      <td>3.420605</td>\n",
       "      <td>2.579926</td>\n",
       "      <td>2329.398832</td>\n",
       "      <td>1982.963887</td>\n",
       "      <td>1.339262e+04</td>\n",
       "      <td>1.0</td>\n",
       "      <td>40.210303</td>\n",
       "      <td>4.505045</td>\n",
       "      <td>5.074881</td>\n",
       "      <td>5.325013</td>\n",
       "      <td>40.802443</td>\n",
       "      <td>3.394052</td>\n",
       "      <td>23.416888</td>\n",
       "      <td>15.835369</td>\n",
       "      <td>38.601168</td>\n",
       "      <td>69.091875</td>\n",
       "      <td>65.085502</td>\n",
       "      <td>466.777483</td>\n",
       "      <td>140.454063</td>\n",
       "      <td>6.502921</td>\n",
       "      <td>2.793415</td>\n",
       "      <td>2007.111524</td>\n",
       "    </tr>\n",
       "    <tr>\n",
       "      <th>std</th>\n",
       "      <td>151462.593276</td>\n",
       "      <td>1.068554</td>\n",
       "      <td>0.945576</td>\n",
       "      <td>1336.991858</td>\n",
       "      <td>20.295945</td>\n",
       "      <td>4.494930e+04</td>\n",
       "      <td>0.0</td>\n",
       "      <td>46.867012</td>\n",
       "      <td>4.491029</td>\n",
       "      <td>8.464668</td>\n",
       "      <td>7.539309</td>\n",
       "      <td>53.539296</td>\n",
       "      <td>4.699787</td>\n",
       "      <td>25.776916</td>\n",
       "      <td>17.667717</td>\n",
       "      <td>6.634110</td>\n",
       "      <td>19.659767</td>\n",
       "      <td>16.953165</td>\n",
       "      <td>231.656645</td>\n",
       "      <td>72.929765</td>\n",
       "      <td>1.996109</td>\n",
       "      <td>0.505358</td>\n",
       "      <td>5.196898</td>\n",
       "    </tr>\n",
       "    <tr>\n",
       "      <th>min</th>\n",
       "      <td>200000.000000</td>\n",
       "      <td>1.000000</td>\n",
       "      <td>1.000000</td>\n",
       "      <td>500.000000</td>\n",
       "      <td>1880.000000</td>\n",
       "      <td>0.000000e+00</td>\n",
       "      <td>1.0</td>\n",
       "      <td>0.000000</td>\n",
       "      <td>0.000000</td>\n",
       "      <td>0.000000</td>\n",
       "      <td>0.000000</td>\n",
       "      <td>0.000000</td>\n",
       "      <td>0.000000</td>\n",
       "      <td>0.000000</td>\n",
       "      <td>0.000000</td>\n",
       "      <td>22.000000</td>\n",
       "      <td>11.000000</td>\n",
       "      <td>5.000000</td>\n",
       "      <td>88.000000</td>\n",
       "      <td>30.000000</td>\n",
       "      <td>1.000000</td>\n",
       "      <td>1.000000</td>\n",
       "      <td>1993.000000</td>\n",
       "    </tr>\n",
       "    <tr>\n",
       "      <th>25%</th>\n",
       "      <td>300000.000000</td>\n",
       "      <td>3.000000</td>\n",
       "      <td>2.000000</td>\n",
       "      <td>1345.000000</td>\n",
       "      <td>1970.000000</td>\n",
       "      <td>1.542000e+03</td>\n",
       "      <td>1.0</td>\n",
       "      <td>7.000000</td>\n",
       "      <td>1.000000</td>\n",
       "      <td>0.000000</td>\n",
       "      <td>0.000000</td>\n",
       "      <td>6.000000</td>\n",
       "      <td>0.000000</td>\n",
       "      <td>4.000000</td>\n",
       "      <td>4.000000</td>\n",
       "      <td>33.000000</td>\n",
       "      <td>58.000000</td>\n",
       "      <td>54.000000</td>\n",
       "      <td>320.000000</td>\n",
       "      <td>94.000000</td>\n",
       "      <td>5.000000</td>\n",
       "      <td>3.000000</td>\n",
       "      <td>2004.000000</td>\n",
       "    </tr>\n",
       "    <tr>\n",
       "      <th>50%</th>\n",
       "      <td>392000.000000</td>\n",
       "      <td>3.000000</td>\n",
       "      <td>3.000000</td>\n",
       "      <td>1907.000000</td>\n",
       "      <td>1986.000000</td>\n",
       "      <td>6.098000e+03</td>\n",
       "      <td>1.0</td>\n",
       "      <td>23.000000</td>\n",
       "      <td>3.000000</td>\n",
       "      <td>2.000000</td>\n",
       "      <td>3.000000</td>\n",
       "      <td>22.000000</td>\n",
       "      <td>2.000000</td>\n",
       "      <td>15.000000</td>\n",
       "      <td>10.000000</td>\n",
       "      <td>38.000000</td>\n",
       "      <td>73.000000</td>\n",
       "      <td>66.000000</td>\n",
       "      <td>426.000000</td>\n",
       "      <td>125.000000</td>\n",
       "      <td>7.000000</td>\n",
       "      <td>3.000000</td>\n",
       "      <td>2007.000000</td>\n",
       "    </tr>\n",
       "    <tr>\n",
       "      <th>75%</th>\n",
       "      <td>525000.000000</td>\n",
       "      <td>4.000000</td>\n",
       "      <td>3.000000</td>\n",
       "      <td>3005.000000</td>\n",
       "      <td>2000.000000</td>\n",
       "      <td>1.176100e+04</td>\n",
       "      <td>1.0</td>\n",
       "      <td>58.000000</td>\n",
       "      <td>7.000000</td>\n",
       "      <td>6.000000</td>\n",
       "      <td>6.000000</td>\n",
       "      <td>51.000000</td>\n",
       "      <td>5.000000</td>\n",
       "      <td>35.000000</td>\n",
       "      <td>21.000000</td>\n",
       "      <td>43.000000</td>\n",
       "      <td>84.000000</td>\n",
       "      <td>78.000000</td>\n",
       "      <td>569.000000</td>\n",
       "      <td>169.000000</td>\n",
       "      <td>8.000000</td>\n",
       "      <td>3.000000</td>\n",
       "      <td>2011.000000</td>\n",
       "    </tr>\n",
       "    <tr>\n",
       "      <th>max</th>\n",
       "      <td>800000.000000</td>\n",
       "      <td>5.000000</td>\n",
       "      <td>6.000000</td>\n",
       "      <td>8450.000000</td>\n",
       "      <td>2015.000000</td>\n",
       "      <td>1.220551e+06</td>\n",
       "      <td>1.0</td>\n",
       "      <td>266.000000</td>\n",
       "      <td>24.000000</td>\n",
       "      <td>54.000000</td>\n",
       "      <td>47.000000</td>\n",
       "      <td>340.000000</td>\n",
       "      <td>35.000000</td>\n",
       "      <td>177.000000</td>\n",
       "      <td>94.000000</td>\n",
       "      <td>69.000000</td>\n",
       "      <td>100.000000</td>\n",
       "      <td>100.000000</td>\n",
       "      <td>4508.000000</td>\n",
       "      <td>1374.000000</td>\n",
       "      <td>10.000000</td>\n",
       "      <td>4.000000</td>\n",
       "      <td>2016.000000</td>\n",
       "    </tr>\n",
       "  </tbody>\n",
       "</table>\n",
       "</div>"
      ],
      "text/plain": [
       "            tx_price         beds        baths         sqft   year_built  \\\n",
       "count    1883.000000  1883.000000  1883.000000  1883.000000  1883.000000   \n",
       "mean   422839.807754     3.420605     2.579926  2329.398832  1982.963887   \n",
       "std    151462.593276     1.068554     0.945576  1336.991858    20.295945   \n",
       "min    200000.000000     1.000000     1.000000   500.000000  1880.000000   \n",
       "25%    300000.000000     3.000000     2.000000  1345.000000  1970.000000   \n",
       "50%    392000.000000     3.000000     3.000000  1907.000000  1986.000000   \n",
       "75%    525000.000000     4.000000     3.000000  3005.000000  2000.000000   \n",
       "max    800000.000000     5.000000     6.000000  8450.000000  2015.000000   \n",
       "\n",
       "           lot_size  basement  restaurants    groceries    nightlife  \\\n",
       "count  1.883000e+03    1657.0  1883.000000  1883.000000  1883.000000   \n",
       "mean   1.339262e+04       1.0    40.210303     4.505045     5.074881   \n",
       "std    4.494930e+04       0.0    46.867012     4.491029     8.464668   \n",
       "min    0.000000e+00       1.0     0.000000     0.000000     0.000000   \n",
       "25%    1.542000e+03       1.0     7.000000     1.000000     0.000000   \n",
       "50%    6.098000e+03       1.0    23.000000     3.000000     2.000000   \n",
       "75%    1.176100e+04       1.0    58.000000     7.000000     6.000000   \n",
       "max    1.220551e+06       1.0   266.000000    24.000000    54.000000   \n",
       "\n",
       "             cafes     shopping  arts_entertainment  beauty_spas  active_life  \\\n",
       "count  1883.000000  1883.000000         1883.000000  1883.000000  1883.000000   \n",
       "mean      5.325013    40.802443            3.394052    23.416888    15.835369   \n",
       "std       7.539309    53.539296            4.699787    25.776916    17.667717   \n",
       "min       0.000000     0.000000            0.000000     0.000000     0.000000   \n",
       "25%       0.000000     6.000000            0.000000     4.000000     4.000000   \n",
       "50%       3.000000    22.000000            2.000000    15.000000    10.000000   \n",
       "75%       6.000000    51.000000            5.000000    35.000000    21.000000   \n",
       "max      47.000000   340.000000           35.000000   177.000000    94.000000   \n",
       "\n",
       "        median_age      married  college_grad  property_tax    insurance  \\\n",
       "count  1883.000000  1883.000000   1883.000000   1883.000000  1883.000000   \n",
       "mean     38.601168    69.091875     65.085502    466.777483   140.454063   \n",
       "std       6.634110    19.659767     16.953165    231.656645    72.929765   \n",
       "min      22.000000    11.000000      5.000000     88.000000    30.000000   \n",
       "25%      33.000000    58.000000     54.000000    320.000000    94.000000   \n",
       "50%      38.000000    73.000000     66.000000    426.000000   125.000000   \n",
       "75%      43.000000    84.000000     78.000000    569.000000   169.000000   \n",
       "max      69.000000   100.000000    100.000000   4508.000000  1374.000000   \n",
       "\n",
       "       median_school  num_schools      tx_year  \n",
       "count    1883.000000  1883.000000  1883.000000  \n",
       "mean        6.502921     2.793415  2007.111524  \n",
       "std         1.996109     0.505358     5.196898  \n",
       "min         1.000000     1.000000  1993.000000  \n",
       "25%         5.000000     3.000000  2004.000000  \n",
       "50%         7.000000     3.000000  2007.000000  \n",
       "75%         8.000000     3.000000  2011.000000  \n",
       "max        10.000000     4.000000  2016.000000  "
      ]
     },
     "execution_count": 8,
     "metadata": {},
     "output_type": "execute_result"
    }
   ],
   "source": [
    "df.describe()"
   ]
  },
  {
   "cell_type": "code",
   "execution_count": 9,
   "metadata": {},
   "outputs": [
    {
     "data": {
      "text/plain": [
       "tx_price                0\n",
       "beds                    0\n",
       "baths                   0\n",
       "sqft                    0\n",
       "year_built              0\n",
       "lot_size                0\n",
       "property_type           0\n",
       "exterior_walls        223\n",
       "roof                  354\n",
       "basement              226\n",
       "restaurants             0\n",
       "groceries               0\n",
       "nightlife               0\n",
       "cafes                   0\n",
       "shopping                0\n",
       "arts_entertainment      0\n",
       "beauty_spas             0\n",
       "active_life             0\n",
       "median_age              0\n",
       "married                 0\n",
       "college_grad            0\n",
       "property_tax            0\n",
       "insurance               0\n",
       "median_school           0\n",
       "num_schools             0\n",
       "tx_year                 0\n",
       "dtype: int64"
      ]
     },
     "execution_count": 9,
     "metadata": {},
     "output_type": "execute_result"
    }
   ],
   "source": [
    "df.isnull().sum()"
   ]
  },
  {
   "cell_type": "code",
   "execution_count": 10,
   "metadata": {},
   "outputs": [
    {
     "data": {
      "image/png": "[encoded data removed]",
      "text/plain": [
       "<Figure size 1080x1080 with 25 Axes>"
      ]
     },
     "metadata": {},
     "output_type": "display_data"
    }
   ],
   "source": [
    "df.hist(figsize=(15,15), xrot=45)\n",
    "plt.show()"
   ]
  },
  {
   "cell_type": "code",
   "execution_count": 11,
   "metadata": {},
   "outputs": [
    {
     "data": {
      "text/html": [
       "<div>\n",
       "<style scoped>\n",
       "    .dataframe tbody tr th:only-of-type {\n",
       "        vertical-align: middle;\n",
       "    }\n",
       "\n",
       "    .dataframe tbody tr th {\n",
       "        vertical-align: top;\n",
       "    }\n",
       "\n",
       "    .dataframe thead th {\n",
       "        text-align: right;\n",
       "    }\n",
       "</style>\n",
       "<table border=\"1\" class=\"dataframe\">\n",
       "  <thead>\n",
       "    <tr style=\"text-align: right;\">\n",
       "      <th></th>\n",
       "      <th>property_type</th>\n",
       "      <th>exterior_walls</th>\n",
       "      <th>roof</th>\n",
       "    </tr>\n",
       "  </thead>\n",
       "  <tbody>\n",
       "    <tr>\n",
       "      <th>count</th>\n",
       "      <td>1883</td>\n",
       "      <td>1660</td>\n",
       "      <td>1529</td>\n",
       "    </tr>\n",
       "    <tr>\n",
       "      <th>unique</th>\n",
       "      <td>2</td>\n",
       "      <td>16</td>\n",
       "      <td>16</td>\n",
       "    </tr>\n",
       "    <tr>\n",
       "      <th>top</th>\n",
       "      <td>Single-Family</td>\n",
       "      <td>Brick</td>\n",
       "      <td>Composition Shingle</td>\n",
       "    </tr>\n",
       "    <tr>\n",
       "      <th>freq</th>\n",
       "      <td>1080</td>\n",
       "      <td>687</td>\n",
       "      <td>1179</td>\n",
       "    </tr>\n",
       "  </tbody>\n",
       "</table>\n",
       "</div>"
      ],
      "text/plain": [
       "        property_type exterior_walls                 roof\n",
       "count            1883           1660                 1529\n",
       "unique              2             16                   16\n",
       "top     Single-Family          Brick  Composition Shingle\n",
       "freq             1080            687                 1179"
      ]
     },
     "execution_count": 11,
     "metadata": {},
     "output_type": "execute_result"
    }
   ],
   "source": [
    "# Summarize categorical features\n",
    "df.describe(include=['object'])"
   ]
  },
  {
   "cell_type": "code",
   "execution_count": 12,
   "metadata": {},
   "outputs": [
    {
     "data": {
      "image/png": "[encoded data removed]",
      "text/plain": [
       "<Figure size 432x288 with 1 Axes>"
      ]
     },
     "metadata": {},
     "output_type": "display_data"
    }
   ],
   "source": [
    "# Bar plot for 'exterior_walls'\n",
    "sns.countplot(y='exterior_walls', data=df)\n",
    "plt.show()"
   ]
  },
  {
   "cell_type": "code",
   "execution_count": 13,
   "metadata": {},
   "outputs": [
    {
     "data": {
      "image/png": "[encoded data removed]",
      "text/plain": [
       "<Figure size 432x288 with 1 Axes>"
      ]
     },
     "metadata": {},
     "output_type": "display_data"
    }
   ],
   "source": [
    "sns.countplot(y='roof', data=df)\n",
    "plt.show()"
   ]
  },
  {
   "cell_type": "code",
   "execution_count": 14,
   "metadata": {},
   "outputs": [
    {
     "data": {
      "image/png": "[encoded data removed]",
      "text/plain": [
       "<Figure size 432x288 with 1 Axes>"
      ]
     },
     "metadata": {},
     "output_type": "display_data"
    }
   ],
   "source": [
    "sns.countplot(y='property_type', data=df)\n",
    "plt.show()"
   ]
  },
  {
   "cell_type": "code",
   "execution_count": 15,
   "metadata": {},
   "outputs": [
    {
     "data": {
      "image/png": "[encoded data removed]",
      "text/plain": [
       "<Figure size 432x288 with 1 Axes>"
      ]
     },
     "metadata": {},
     "output_type": "display_data"
    }
   ],
   "source": [
    "# Segment tx_price by property_type and plot distributions\n",
    "sns.boxplot(x='tx_price', y='property_type', data=df)\n",
    "plt.show()"
   ]
  },
  {
   "cell_type": "code",
   "execution_count": 16,
   "metadata": {},
   "outputs": [
    {
     "data": {
      "text/html": [
       "<div>\n",
       "<style scoped>\n",
       "    .dataframe tbody tr th:only-of-type {\n",
       "        vertical-align: middle;\n",
       "    }\n",
       "\n",
       "    .dataframe tbody tr th {\n",
       "        vertical-align: top;\n",
       "    }\n",
       "\n",
       "    .dataframe thead th {\n",
       "        text-align: right;\n",
       "    }\n",
       "</style>\n",
       "<table border=\"1\" class=\"dataframe\">\n",
       "  <thead>\n",
       "    <tr style=\"text-align: right;\">\n",
       "      <th></th>\n",
       "      <th>tx_price</th>\n",
       "      <th>beds</th>\n",
       "      <th>baths</th>\n",
       "      <th>sqft</th>\n",
       "      <th>year_built</th>\n",
       "      <th>lot_size</th>\n",
       "      <th>basement</th>\n",
       "      <th>restaurants</th>\n",
       "      <th>groceries</th>\n",
       "      <th>nightlife</th>\n",
       "      <th>cafes</th>\n",
       "      <th>shopping</th>\n",
       "      <th>arts_entertainment</th>\n",
       "      <th>beauty_spas</th>\n",
       "      <th>active_life</th>\n",
       "      <th>median_age</th>\n",
       "      <th>married</th>\n",
       "      <th>college_grad</th>\n",
       "      <th>property_tax</th>\n",
       "      <th>insurance</th>\n",
       "      <th>median_school</th>\n",
       "      <th>num_schools</th>\n",
       "      <th>tx_year</th>\n",
       "    </tr>\n",
       "    <tr>\n",
       "      <th>property_type</th>\n",
       "      <th></th>\n",
       "      <th></th>\n",
       "      <th></th>\n",
       "      <th></th>\n",
       "      <th></th>\n",
       "      <th></th>\n",
       "      <th></th>\n",
       "      <th></th>\n",
       "      <th></th>\n",
       "      <th></th>\n",
       "      <th></th>\n",
       "      <th></th>\n",
       "      <th></th>\n",
       "      <th></th>\n",
       "      <th></th>\n",
       "      <th></th>\n",
       "      <th></th>\n",
       "      <th></th>\n",
       "      <th></th>\n",
       "      <th></th>\n",
       "      <th></th>\n",
       "      <th></th>\n",
       "      <th></th>\n",
       "    </tr>\n",
       "  </thead>\n",
       "  <tbody>\n",
       "    <tr>\n",
       "      <th>Apartment / Condo / Townhouse</th>\n",
       "      <td>366614.034869</td>\n",
       "      <td>2.601494</td>\n",
       "      <td>2.200498</td>\n",
       "      <td>1513.727273</td>\n",
       "      <td>1988.936488</td>\n",
       "      <td>3944.239103</td>\n",
       "      <td>1.0</td>\n",
       "      <td>58.418431</td>\n",
       "      <td>5.919054</td>\n",
       "      <td>7.855542</td>\n",
       "      <td>8.037360</td>\n",
       "      <td>57.631382</td>\n",
       "      <td>4.840598</td>\n",
       "      <td>32.087173</td>\n",
       "      <td>22.410959</td>\n",
       "      <td>37.199253</td>\n",
       "      <td>57.534247</td>\n",
       "      <td>66.372354</td>\n",
       "      <td>346.261519</td>\n",
       "      <td>105.652553</td>\n",
       "      <td>6.382316</td>\n",
       "      <td>2.831880</td>\n",
       "      <td>2007.941469</td>\n",
       "    </tr>\n",
       "    <tr>\n",
       "      <th>Single-Family</th>\n",
       "      <td>464644.711111</td>\n",
       "      <td>4.029630</td>\n",
       "      <td>2.862037</td>\n",
       "      <td>2935.865741</td>\n",
       "      <td>1978.523148</td>\n",
       "      <td>20417.666667</td>\n",
       "      <td>1.0</td>\n",
       "      <td>26.672222</td>\n",
       "      <td>3.453704</td>\n",
       "      <td>3.007407</td>\n",
       "      <td>3.308333</td>\n",
       "      <td>28.289815</td>\n",
       "      <td>2.318519</td>\n",
       "      <td>16.970370</td>\n",
       "      <td>10.946296</td>\n",
       "      <td>39.643519</td>\n",
       "      <td>77.685185</td>\n",
       "      <td>64.128704</td>\n",
       "      <td>556.383333</td>\n",
       "      <td>166.329630</td>\n",
       "      <td>6.592593</td>\n",
       "      <td>2.764815</td>\n",
       "      <td>2006.494444</td>\n",
       "    </tr>\n",
       "  </tbody>\n",
       "</table>\n",
       "</div>"
      ],
      "text/plain": [
       "                                    tx_price      beds     baths         sqft  \\\n",
       "property_type                                                                   \n",
       "Apartment / Condo / Townhouse  366614.034869  2.601494  2.200498  1513.727273   \n",
       "Single-Family                  464644.711111  4.029630  2.862037  2935.865741   \n",
       "\n",
       "                                year_built      lot_size  basement  \\\n",
       "property_type                                                        \n",
       "Apartment / Condo / Townhouse  1988.936488   3944.239103       1.0   \n",
       "Single-Family                  1978.523148  20417.666667       1.0   \n",
       "\n",
       "                               restaurants  groceries  nightlife     cafes  \\\n",
       "property_type                                                                \n",
       "Apartment / Condo / Townhouse    58.418431   5.919054   7.855542  8.037360   \n",
       "Single-Family                    26.672222   3.453704   3.007407  3.308333   \n",
       "\n",
       "                                shopping  arts_entertainment  beauty_spas  \\\n",
       "property_type                                                               \n",
       "Apartment / Condo / Townhouse  57.631382            4.840598    32.087173   \n",
       "Single-Family                  28.289815            2.318519    16.970370   \n",
       "\n",
       "                               active_life  median_age    married  \\\n",
       "property_type                                                       \n",
       "Apartment / Condo / Townhouse    22.410959   37.199253  57.534247   \n",
       "Single-Family                    10.946296   39.643519  77.685185   \n",
       "\n",
       "                               college_grad  property_tax   insurance  \\\n",
       "property_type                                                           \n",
       "Apartment / Condo / Townhouse     66.372354    346.261519  105.652553   \n",
       "Single-Family                     64.128704    556.383333  166.329630   \n",
       "\n",
       "                               median_school  num_schools      tx_year  \n",
       "property_type                                                           \n",
       "Apartment / Condo / Townhouse       6.382316     2.831880  2007.941469  \n",
       "Single-Family                       6.592593     2.764815  2006.494444  "
      ]
     },
     "execution_count": 16,
     "metadata": {},
     "output_type": "execute_result"
    }
   ],
   "source": [
    "# Segment by property_type and display the means within each class\n",
    "df.groupby('property_type').mean()"
   ]
  },
  {
   "cell_type": "code",
   "execution_count": 17,
   "metadata": {},
   "outputs": [
    {
     "data": {
      "image/png": "[encoded data removed]",
      "text/plain": [
       "<Figure size 720x720 with 1 Axes>"
      ]
     },
     "metadata": {},
     "output_type": "display_data"
    }
   ],
   "source": [
    "plt.figure(figsize=(10,10))\n",
    "sns.countplot(y=df.tx_year, hue=df.property_type)\n",
    "plt.show()"
   ]
  },
  {
   "cell_type": "code",
   "execution_count": 18,
   "metadata": {},
   "outputs": [
    {
     "data": {
      "text/html": [
       "<div>\n",
       "<style scoped>\n",
       "    .dataframe tbody tr th:only-of-type {\n",
       "        vertical-align: middle;\n",
       "    }\n",
       "\n",
       "    .dataframe tbody tr th {\n",
       "        vertical-align: top;\n",
       "    }\n",
       "\n",
       "    .dataframe thead th {\n",
       "        text-align: right;\n",
       "    }\n",
       "</style>\n",
       "<table border=\"1\" class=\"dataframe\">\n",
       "  <thead>\n",
       "    <tr style=\"text-align: right;\">\n",
       "      <th></th>\n",
       "      <th>tx_price</th>\n",
       "      <th>beds</th>\n",
       "      <th>baths</th>\n",
       "      <th>sqft</th>\n",
       "      <th>year_built</th>\n",
       "      <th>lot_size</th>\n",
       "      <th>basement</th>\n",
       "      <th>restaurants</th>\n",
       "      <th>groceries</th>\n",
       "      <th>nightlife</th>\n",
       "      <th>cafes</th>\n",
       "      <th>shopping</th>\n",
       "      <th>arts_entertainment</th>\n",
       "      <th>beauty_spas</th>\n",
       "      <th>active_life</th>\n",
       "      <th>median_age</th>\n",
       "      <th>married</th>\n",
       "      <th>college_grad</th>\n",
       "      <th>property_tax</th>\n",
       "      <th>insurance</th>\n",
       "      <th>median_school</th>\n",
       "      <th>num_schools</th>\n",
       "      <th>tx_year</th>\n",
       "    </tr>\n",
       "  </thead>\n",
       "  <tbody>\n",
       "    <tr>\n",
       "      <th>tx_price</th>\n",
       "      <td>1.000000</td>\n",
       "      <td>0.384046</td>\n",
       "      <td>0.389375</td>\n",
       "      <td>0.469573</td>\n",
       "      <td>0.033138</td>\n",
       "      <td>0.130558</td>\n",
       "      <td>NaN</td>\n",
       "      <td>-0.038027</td>\n",
       "      <td>-0.094314</td>\n",
       "      <td>0.009361</td>\n",
       "      <td>-0.001398</td>\n",
       "      <td>-0.038246</td>\n",
       "      <td>-0.021076</td>\n",
       "      <td>-0.054349</td>\n",
       "      <td>-0.001165</td>\n",
       "      <td>0.126335</td>\n",
       "      <td>0.200494</td>\n",
       "      <td>0.268577</td>\n",
       "      <td>0.535148</td>\n",
       "      <td>0.532947</td>\n",
       "      <td>0.175762</td>\n",
       "      <td>-0.014380</td>\n",
       "      <td>0.108782</td>\n",
       "    </tr>\n",
       "    <tr>\n",
       "      <th>beds</th>\n",
       "      <td>0.384046</td>\n",
       "      <td>1.000000</td>\n",
       "      <td>0.644572</td>\n",
       "      <td>0.691039</td>\n",
       "      <td>-0.011844</td>\n",
       "      <td>0.164399</td>\n",
       "      <td>NaN</td>\n",
       "      <td>-0.495834</td>\n",
       "      <td>-0.421412</td>\n",
       "      <td>-0.440844</td>\n",
       "      <td>-0.464289</td>\n",
       "      <td>-0.388670</td>\n",
       "      <td>-0.442168</td>\n",
       "      <td>-0.419832</td>\n",
       "      <td>-0.486957</td>\n",
       "      <td>0.133711</td>\n",
       "      <td>0.643240</td>\n",
       "      <td>-0.082354</td>\n",
       "      <td>0.547643</td>\n",
       "      <td>0.485776</td>\n",
       "      <td>0.137309</td>\n",
       "      <td>-0.124359</td>\n",
       "      <td>-0.174081</td>\n",
       "    </tr>\n",
       "    <tr>\n",
       "      <th>baths</th>\n",
       "      <td>0.389375</td>\n",
       "      <td>0.644572</td>\n",
       "      <td>1.000000</td>\n",
       "      <td>0.682060</td>\n",
       "      <td>0.206141</td>\n",
       "      <td>0.132976</td>\n",
       "      <td>NaN</td>\n",
       "      <td>-0.350210</td>\n",
       "      <td>-0.340024</td>\n",
       "      <td>-0.306686</td>\n",
       "      <td>-0.316836</td>\n",
       "      <td>-0.259603</td>\n",
       "      <td>-0.305885</td>\n",
       "      <td>-0.282008</td>\n",
       "      <td>-0.329736</td>\n",
       "      <td>0.095844</td>\n",
       "      <td>0.442225</td>\n",
       "      <td>0.016097</td>\n",
       "      <td>0.525776</td>\n",
       "      <td>0.475430</td>\n",
       "      <td>0.163365</td>\n",
       "      <td>-0.088299</td>\n",
       "      <td>-0.132110</td>\n",
       "    </tr>\n",
       "    <tr>\n",
       "      <th>sqft</th>\n",
       "      <td>0.469573</td>\n",
       "      <td>0.691039</td>\n",
       "      <td>0.682060</td>\n",
       "      <td>1.000000</td>\n",
       "      <td>0.254589</td>\n",
       "      <td>0.246016</td>\n",
       "      <td>NaN</td>\n",
       "      <td>-0.353759</td>\n",
       "      <td>-0.371167</td>\n",
       "      <td>-0.281540</td>\n",
       "      <td>-0.300969</td>\n",
       "      <td>-0.275586</td>\n",
       "      <td>-0.293402</td>\n",
       "      <td>-0.310465</td>\n",
       "      <td>-0.332663</td>\n",
       "      <td>0.109811</td>\n",
       "      <td>0.480167</td>\n",
       "      <td>0.065343</td>\n",
       "      <td>0.660264</td>\n",
       "      <td>0.594049</td>\n",
       "      <td>0.220669</td>\n",
       "      <td>-0.102032</td>\n",
       "      <td>-0.236190</td>\n",
       "    </tr>\n",
       "    <tr>\n",
       "      <th>year_built</th>\n",
       "      <td>0.033138</td>\n",
       "      <td>-0.011844</td>\n",
       "      <td>0.206141</td>\n",
       "      <td>0.254589</td>\n",
       "      <td>1.000000</td>\n",
       "      <td>0.000068</td>\n",
       "      <td>NaN</td>\n",
       "      <td>-0.106948</td>\n",
       "      <td>-0.222443</td>\n",
       "      <td>-0.080006</td>\n",
       "      <td>-0.102209</td>\n",
       "      <td>-0.121684</td>\n",
       "      <td>-0.195141</td>\n",
       "      <td>-0.163670</td>\n",
       "      <td>-0.134919</td>\n",
       "      <td>-0.237152</td>\n",
       "      <td>0.038208</td>\n",
       "      <td>-0.014204</td>\n",
       "      <td>-0.046504</td>\n",
       "      <td>-0.109521</td>\n",
       "      <td>0.155835</td>\n",
       "      <td>-0.188106</td>\n",
       "      <td>-0.043301</td>\n",
       "    </tr>\n",
       "    <tr>\n",
       "      <th>lot_size</th>\n",
       "      <td>0.130558</td>\n",
       "      <td>0.164399</td>\n",
       "      <td>0.132976</td>\n",
       "      <td>0.246016</td>\n",
       "      <td>0.000068</td>\n",
       "      <td>1.000000</td>\n",
       "      <td>NaN</td>\n",
       "      <td>-0.113887</td>\n",
       "      <td>-0.118574</td>\n",
       "      <td>-0.072224</td>\n",
       "      <td>-0.098182</td>\n",
       "      <td>-0.116560</td>\n",
       "      <td>-0.067189</td>\n",
       "      <td>-0.121075</td>\n",
       "      <td>-0.092668</td>\n",
       "      <td>0.099140</td>\n",
       "      <td>0.122028</td>\n",
       "      <td>-0.030725</td>\n",
       "      <td>0.165800</td>\n",
       "      <td>0.146579</td>\n",
       "      <td>0.096551</td>\n",
       "      <td>-0.031535</td>\n",
       "      <td>-0.048207</td>\n",
       "    </tr>\n",
       "    <tr>\n",
       "      <th>basement</th>\n",
       "      <td>NaN</td>\n",
       "      <td>NaN</td>\n",
       "      <td>NaN</td>\n",
       "      <td>NaN</td>\n",
       "      <td>NaN</td>\n",
       "      <td>NaN</td>\n",
       "      <td>NaN</td>\n",
       "      <td>NaN</td>\n",
       "      <td>NaN</td>\n",
       "      <td>NaN</td>\n",
       "      <td>NaN</td>\n",
       "      <td>NaN</td>\n",
       "      <td>NaN</td>\n",
       "      <td>NaN</td>\n",
       "      <td>NaN</td>\n",
       "      <td>NaN</td>\n",
       "      <td>NaN</td>\n",
       "      <td>NaN</td>\n",
       "      <td>NaN</td>\n",
       "      <td>NaN</td>\n",
       "      <td>NaN</td>\n",
       "      <td>NaN</td>\n",
       "      <td>NaN</td>\n",
       "    </tr>\n",
       "    <tr>\n",
       "      <th>restaurants</th>\n",
       "      <td>-0.038027</td>\n",
       "      <td>-0.495834</td>\n",
       "      <td>-0.350210</td>\n",
       "      <td>-0.353759</td>\n",
       "      <td>-0.106948</td>\n",
       "      <td>-0.113887</td>\n",
       "      <td>NaN</td>\n",
       "      <td>1.000000</td>\n",
       "      <td>0.701462</td>\n",
       "      <td>0.926675</td>\n",
       "      <td>0.937616</td>\n",
       "      <td>0.818815</td>\n",
       "      <td>0.726907</td>\n",
       "      <td>0.867829</td>\n",
       "      <td>0.881799</td>\n",
       "      <td>-0.063816</td>\n",
       "      <td>-0.615584</td>\n",
       "      <td>0.214260</td>\n",
       "      <td>-0.100821</td>\n",
       "      <td>-0.019925</td>\n",
       "      <td>-0.068425</td>\n",
       "      <td>0.251171</td>\n",
       "      <td>0.044739</td>\n",
       "    </tr>\n",
       "    <tr>\n",
       "      <th>groceries</th>\n",
       "      <td>-0.094314</td>\n",
       "      <td>-0.421412</td>\n",
       "      <td>-0.340024</td>\n",
       "      <td>-0.371167</td>\n",
       "      <td>-0.222443</td>\n",
       "      <td>-0.118574</td>\n",
       "      <td>NaN</td>\n",
       "      <td>0.701462</td>\n",
       "      <td>1.000000</td>\n",
       "      <td>0.565003</td>\n",
       "      <td>0.602857</td>\n",
       "      <td>0.526356</td>\n",
       "      <td>0.502837</td>\n",
       "      <td>0.626850</td>\n",
       "      <td>0.574532</td>\n",
       "      <td>-0.022377</td>\n",
       "      <td>-0.508793</td>\n",
       "      <td>-0.006025</td>\n",
       "      <td>-0.159506</td>\n",
       "      <td>-0.093974</td>\n",
       "      <td>-0.354553</td>\n",
       "      <td>0.272856</td>\n",
       "      <td>0.115674</td>\n",
       "    </tr>\n",
       "    <tr>\n",
       "      <th>nightlife</th>\n",
       "      <td>0.009361</td>\n",
       "      <td>-0.440844</td>\n",
       "      <td>-0.306686</td>\n",
       "      <td>-0.281540</td>\n",
       "      <td>-0.080006</td>\n",
       "      <td>-0.072224</td>\n",
       "      <td>NaN</td>\n",
       "      <td>0.926675</td>\n",
       "      <td>0.565003</td>\n",
       "      <td>1.000000</td>\n",
       "      <td>0.923901</td>\n",
       "      <td>0.743321</td>\n",
       "      <td>0.703038</td>\n",
       "      <td>0.777461</td>\n",
       "      <td>0.858836</td>\n",
       "      <td>-0.028611</td>\n",
       "      <td>-0.568811</td>\n",
       "      <td>0.253717</td>\n",
       "      <td>-0.054386</td>\n",
       "      <td>0.024551</td>\n",
       "      <td>-0.036948</td>\n",
       "      <td>0.196399</td>\n",
       "      <td>0.027495</td>\n",
       "    </tr>\n",
       "    <tr>\n",
       "      <th>cafes</th>\n",
       "      <td>-0.001398</td>\n",
       "      <td>-0.464289</td>\n",
       "      <td>-0.316836</td>\n",
       "      <td>-0.300969</td>\n",
       "      <td>-0.102209</td>\n",
       "      <td>-0.098182</td>\n",
       "      <td>NaN</td>\n",
       "      <td>0.937616</td>\n",
       "      <td>0.602857</td>\n",
       "      <td>0.923901</td>\n",
       "      <td>1.000000</td>\n",
       "      <td>0.837058</td>\n",
       "      <td>0.694575</td>\n",
       "      <td>0.822541</td>\n",
       "      <td>0.826648</td>\n",
       "      <td>0.026400</td>\n",
       "      <td>-0.581850</td>\n",
       "      <td>0.266652</td>\n",
       "      <td>-0.044410</td>\n",
       "      <td>0.036502</td>\n",
       "      <td>-0.027868</td>\n",
       "      <td>0.224312</td>\n",
       "      <td>0.013558</td>\n",
       "    </tr>\n",
       "    <tr>\n",
       "      <th>shopping</th>\n",
       "      <td>-0.038246</td>\n",
       "      <td>-0.388670</td>\n",
       "      <td>-0.259603</td>\n",
       "      <td>-0.275586</td>\n",
       "      <td>-0.121684</td>\n",
       "      <td>-0.116560</td>\n",
       "      <td>NaN</td>\n",
       "      <td>0.818815</td>\n",
       "      <td>0.526356</td>\n",
       "      <td>0.743321</td>\n",
       "      <td>0.837058</td>\n",
       "      <td>1.000000</td>\n",
       "      <td>0.653803</td>\n",
       "      <td>0.860987</td>\n",
       "      <td>0.678515</td>\n",
       "      <td>0.032339</td>\n",
       "      <td>-0.454072</td>\n",
       "      <td>0.177383</td>\n",
       "      <td>-0.040556</td>\n",
       "      <td>0.018846</td>\n",
       "      <td>-0.048058</td>\n",
       "      <td>0.228988</td>\n",
       "      <td>-0.000324</td>\n",
       "    </tr>\n",
       "    <tr>\n",
       "      <th>arts_entertainment</th>\n",
       "      <td>-0.021076</td>\n",
       "      <td>-0.442168</td>\n",
       "      <td>-0.305885</td>\n",
       "      <td>-0.293402</td>\n",
       "      <td>-0.195141</td>\n",
       "      <td>-0.067189</td>\n",
       "      <td>NaN</td>\n",
       "      <td>0.726907</td>\n",
       "      <td>0.502837</td>\n",
       "      <td>0.703038</td>\n",
       "      <td>0.694575</td>\n",
       "      <td>0.653803</td>\n",
       "      <td>1.000000</td>\n",
       "      <td>0.757860</td>\n",
       "      <td>0.800994</td>\n",
       "      <td>-0.014640</td>\n",
       "      <td>-0.554533</td>\n",
       "      <td>0.239129</td>\n",
       "      <td>-0.066346</td>\n",
       "      <td>0.015380</td>\n",
       "      <td>-0.138266</td>\n",
       "      <td>0.214163</td>\n",
       "      <td>0.034356</td>\n",
       "    </tr>\n",
       "    <tr>\n",
       "      <th>beauty_spas</th>\n",
       "      <td>-0.054349</td>\n",
       "      <td>-0.419832</td>\n",
       "      <td>-0.282008</td>\n",
       "      <td>-0.310465</td>\n",
       "      <td>-0.163670</td>\n",
       "      <td>-0.121075</td>\n",
       "      <td>NaN</td>\n",
       "      <td>0.867829</td>\n",
       "      <td>0.626850</td>\n",
       "      <td>0.777461</td>\n",
       "      <td>0.822541</td>\n",
       "      <td>0.860987</td>\n",
       "      <td>0.757860</td>\n",
       "      <td>1.000000</td>\n",
       "      <td>0.785920</td>\n",
       "      <td>-0.002961</td>\n",
       "      <td>-0.510331</td>\n",
       "      <td>0.177066</td>\n",
       "      <td>-0.057293</td>\n",
       "      <td>0.010980</td>\n",
       "      <td>-0.098727</td>\n",
       "      <td>0.262651</td>\n",
       "      <td>0.008066</td>\n",
       "    </tr>\n",
       "    <tr>\n",
       "      <th>active_life</th>\n",
       "      <td>-0.001165</td>\n",
       "      <td>-0.486957</td>\n",
       "      <td>-0.329736</td>\n",
       "      <td>-0.332663</td>\n",
       "      <td>-0.134919</td>\n",
       "      <td>-0.092668</td>\n",
       "      <td>NaN</td>\n",
       "      <td>0.881799</td>\n",
       "      <td>0.574532</td>\n",
       "      <td>0.858836</td>\n",
       "      <td>0.826648</td>\n",
       "      <td>0.678515</td>\n",
       "      <td>0.800994</td>\n",
       "      <td>0.785920</td>\n",
       "      <td>1.000000</td>\n",
       "      <td>-0.081159</td>\n",
       "      <td>-0.632052</td>\n",
       "      <td>0.323985</td>\n",
       "      <td>-0.057646</td>\n",
       "      <td>0.030911</td>\n",
       "      <td>0.007675</td>\n",
       "      <td>0.235246</td>\n",
       "      <td>0.028759</td>\n",
       "    </tr>\n",
       "    <tr>\n",
       "      <th>median_age</th>\n",
       "      <td>0.126335</td>\n",
       "      <td>0.133711</td>\n",
       "      <td>0.095844</td>\n",
       "      <td>0.109811</td>\n",
       "      <td>-0.237152</td>\n",
       "      <td>0.099140</td>\n",
       "      <td>NaN</td>\n",
       "      <td>-0.063816</td>\n",
       "      <td>-0.022377</td>\n",
       "      <td>-0.028611</td>\n",
       "      <td>0.026400</td>\n",
       "      <td>0.032339</td>\n",
       "      <td>-0.014640</td>\n",
       "      <td>-0.002961</td>\n",
       "      <td>-0.081159</td>\n",
       "      <td>1.000000</td>\n",
       "      <td>0.045555</td>\n",
       "      <td>0.169749</td>\n",
       "      <td>0.215435</td>\n",
       "      <td>0.232503</td>\n",
       "      <td>-0.002861</td>\n",
       "      <td>0.071455</td>\n",
       "      <td>-0.118490</td>\n",
       "    </tr>\n",
       "    <tr>\n",
       "      <th>married</th>\n",
       "      <td>0.200494</td>\n",
       "      <td>0.643240</td>\n",
       "      <td>0.442225</td>\n",
       "      <td>0.480167</td>\n",
       "      <td>0.038208</td>\n",
       "      <td>0.122028</td>\n",
       "      <td>NaN</td>\n",
       "      <td>-0.615584</td>\n",
       "      <td>-0.508793</td>\n",
       "      <td>-0.568811</td>\n",
       "      <td>-0.581850</td>\n",
       "      <td>-0.454072</td>\n",
       "      <td>-0.554533</td>\n",
       "      <td>-0.510331</td>\n",
       "      <td>-0.632052</td>\n",
       "      <td>0.045555</td>\n",
       "      <td>1.000000</td>\n",
       "      <td>-0.143461</td>\n",
       "      <td>0.305330</td>\n",
       "      <td>0.233701</td>\n",
       "      <td>0.169439</td>\n",
       "      <td>-0.212870</td>\n",
       "      <td>-0.134787</td>\n",
       "    </tr>\n",
       "    <tr>\n",
       "      <th>college_grad</th>\n",
       "      <td>0.268577</td>\n",
       "      <td>-0.082354</td>\n",
       "      <td>0.016097</td>\n",
       "      <td>0.065343</td>\n",
       "      <td>-0.014204</td>\n",
       "      <td>-0.030725</td>\n",
       "      <td>NaN</td>\n",
       "      <td>0.214260</td>\n",
       "      <td>-0.006025</td>\n",
       "      <td>0.253717</td>\n",
       "      <td>0.266652</td>\n",
       "      <td>0.177383</td>\n",
       "      <td>0.239129</td>\n",
       "      <td>0.177066</td>\n",
       "      <td>0.323985</td>\n",
       "      <td>0.169749</td>\n",
       "      <td>-0.143461</td>\n",
       "      <td>1.000000</td>\n",
       "      <td>0.287933</td>\n",
       "      <td>0.326057</td>\n",
       "      <td>0.400306</td>\n",
       "      <td>0.049756</td>\n",
       "      <td>-0.189932</td>\n",
       "    </tr>\n",
       "    <tr>\n",
       "      <th>property_tax</th>\n",
       "      <td>0.535148</td>\n",
       "      <td>0.547643</td>\n",
       "      <td>0.525776</td>\n",
       "      <td>0.660264</td>\n",
       "      <td>-0.046504</td>\n",
       "      <td>0.165800</td>\n",
       "      <td>NaN</td>\n",
       "      <td>-0.100821</td>\n",
       "      <td>-0.159506</td>\n",
       "      <td>-0.054386</td>\n",
       "      <td>-0.044410</td>\n",
       "      <td>-0.040556</td>\n",
       "      <td>-0.066346</td>\n",
       "      <td>-0.057293</td>\n",
       "      <td>-0.057646</td>\n",
       "      <td>0.215435</td>\n",
       "      <td>0.305330</td>\n",
       "      <td>0.287933</td>\n",
       "      <td>1.000000</td>\n",
       "      <td>0.984724</td>\n",
       "      <td>0.237455</td>\n",
       "      <td>0.037342</td>\n",
       "      <td>-0.257703</td>\n",
       "    </tr>\n",
       "    <tr>\n",
       "      <th>insurance</th>\n",
       "      <td>0.532947</td>\n",
       "      <td>0.485776</td>\n",
       "      <td>0.475430</td>\n",
       "      <td>0.594049</td>\n",
       "      <td>-0.109521</td>\n",
       "      <td>0.146579</td>\n",
       "      <td>NaN</td>\n",
       "      <td>-0.019925</td>\n",
       "      <td>-0.093974</td>\n",
       "      <td>0.024551</td>\n",
       "      <td>0.036502</td>\n",
       "      <td>0.018846</td>\n",
       "      <td>0.015380</td>\n",
       "      <td>0.010980</td>\n",
       "      <td>0.030911</td>\n",
       "      <td>0.232503</td>\n",
       "      <td>0.233701</td>\n",
       "      <td>0.326057</td>\n",
       "      <td>0.984724</td>\n",
       "      <td>1.000000</td>\n",
       "      <td>0.234889</td>\n",
       "      <td>0.056985</td>\n",
       "      <td>-0.254706</td>\n",
       "    </tr>\n",
       "    <tr>\n",
       "      <th>median_school</th>\n",
       "      <td>0.175762</td>\n",
       "      <td>0.137309</td>\n",
       "      <td>0.163365</td>\n",
       "      <td>0.220669</td>\n",
       "      <td>0.155835</td>\n",
       "      <td>0.096551</td>\n",
       "      <td>NaN</td>\n",
       "      <td>-0.068425</td>\n",
       "      <td>-0.354553</td>\n",
       "      <td>-0.036948</td>\n",
       "      <td>-0.027868</td>\n",
       "      <td>-0.048058</td>\n",
       "      <td>-0.138266</td>\n",
       "      <td>-0.098727</td>\n",
       "      <td>0.007675</td>\n",
       "      <td>-0.002861</td>\n",
       "      <td>0.169439</td>\n",
       "      <td>0.400306</td>\n",
       "      <td>0.237455</td>\n",
       "      <td>0.234889</td>\n",
       "      <td>1.000000</td>\n",
       "      <td>-0.145572</td>\n",
       "      <td>-0.167141</td>\n",
       "    </tr>\n",
       "    <tr>\n",
       "      <th>num_schools</th>\n",
       "      <td>-0.014380</td>\n",
       "      <td>-0.124359</td>\n",
       "      <td>-0.088299</td>\n",
       "      <td>-0.102032</td>\n",
       "      <td>-0.188106</td>\n",
       "      <td>-0.031535</td>\n",
       "      <td>NaN</td>\n",
       "      <td>0.251171</td>\n",
       "      <td>0.272856</td>\n",
       "      <td>0.196399</td>\n",
       "      <td>0.224312</td>\n",
       "      <td>0.228988</td>\n",
       "      <td>0.214163</td>\n",
       "      <td>0.262651</td>\n",
       "      <td>0.235246</td>\n",
       "      <td>0.071455</td>\n",
       "      <td>-0.212870</td>\n",
       "      <td>0.049756</td>\n",
       "      <td>0.037342</td>\n",
       "      <td>0.056985</td>\n",
       "      <td>-0.145572</td>\n",
       "      <td>1.000000</td>\n",
       "      <td>0.007361</td>\n",
       "    </tr>\n",
       "    <tr>\n",
       "      <th>tx_year</th>\n",
       "      <td>0.108782</td>\n",
       "      <td>-0.174081</td>\n",
       "      <td>-0.132110</td>\n",
       "      <td>-0.236190</td>\n",
       "      <td>-0.043301</td>\n",
       "      <td>-0.048207</td>\n",
       "      <td>NaN</td>\n",
       "      <td>0.044739</td>\n",
       "      <td>0.115674</td>\n",
       "      <td>0.027495</td>\n",
       "      <td>0.013558</td>\n",
       "      <td>-0.000324</td>\n",
       "      <td>0.034356</td>\n",
       "      <td>0.008066</td>\n",
       "      <td>0.028759</td>\n",
       "      <td>-0.118490</td>\n",
       "      <td>-0.134787</td>\n",
       "      <td>-0.189932</td>\n",
       "      <td>-0.257703</td>\n",
       "      <td>-0.254706</td>\n",
       "      <td>-0.167141</td>\n",
       "      <td>0.007361</td>\n",
       "      <td>1.000000</td>\n",
       "    </tr>\n",
       "  </tbody>\n",
       "</table>\n",
       "</div>"
      ],
      "text/plain": [
       "                    tx_price      beds     baths      sqft  year_built  \\\n",
       "tx_price            1.000000  0.384046  0.389375  0.469573    0.033138   \n",
       "beds                0.384046  1.000000  0.644572  0.691039   -0.011844   \n",
       "baths               0.389375  0.644572  1.000000  0.682060    0.206141   \n",
       "sqft                0.469573  0.691039  0.682060  1.000000    0.254589   \n",
       "year_built          0.033138 -0.011844  0.206141  0.254589    1.000000   \n",
       "lot_size            0.130558  0.164399  0.132976  0.246016    0.000068   \n",
       "basement                 NaN       NaN       NaN       NaN         NaN   \n",
       "restaurants        -0.038027 -0.495834 -0.350210 -0.353759   -0.106948   \n",
       "groceries          -0.094314 -0.421412 -0.340024 -0.371167   -0.222443   \n",
       "nightlife           0.009361 -0.440844 -0.306686 -0.281540   -0.080006   \n",
       "cafes              -0.001398 -0.464289 -0.316836 -0.300969   -0.102209   \n",
       "shopping           -0.038246 -0.388670 -0.259603 -0.275586   -0.121684   \n",
       "arts_entertainment -0.021076 -0.442168 -0.305885 -0.293402   -0.195141   \n",
       "beauty_spas        -0.054349 -0.419832 -0.282008 -0.310465   -0.163670   \n",
       "active_life        -0.001165 -0.486957 -0.329736 -0.332663   -0.134919   \n",
       "median_age          0.126335  0.133711  0.095844  0.109811   -0.237152   \n",
       "married             0.200494  0.643240  0.442225  0.480167    0.038208   \n",
       "college_grad        0.268577 -0.082354  0.016097  0.065343   -0.014204   \n",
       "property_tax        0.535148  0.547643  0.525776  0.660264   -0.046504   \n",
       "insurance           0.532947  0.485776  0.475430  0.594049   -0.109521   \n",
       "median_school       0.175762  0.137309  0.163365  0.220669    0.155835   \n",
       "num_schools        -0.014380 -0.124359 -0.088299 -0.102032   -0.188106   \n",
       "tx_year             0.108782 -0.174081 -0.132110 -0.236190   -0.043301   \n",
       "\n",
       "                    lot_size  basement  restaurants  groceries  nightlife  \\\n",
       "tx_price            0.130558       NaN    -0.038027  -0.094314   0.009361   \n",
       "beds                0.164399       NaN    -0.495834  -0.421412  -0.440844   \n",
       "baths               0.132976       NaN    -0.350210  -0.340024  -0.306686   \n",
       "sqft                0.246016       NaN    -0.353759  -0.371167  -0.281540   \n",
       "year_built          0.000068       NaN    -0.106948  -0.222443  -0.080006   \n",
       "lot_size            1.000000       NaN    -0.113887  -0.118574  -0.072224   \n",
       "basement                 NaN       NaN          NaN        NaN        NaN   \n",
       "restaurants        -0.113887       NaN     1.000000   0.701462   0.926675   \n",
       "groceries          -0.118574       NaN     0.701462   1.000000   0.565003   \n",
       "nightlife          -0.072224       NaN     0.926675   0.565003   1.000000   \n",
       "cafes              -0.098182       NaN     0.937616   0.602857   0.923901   \n",
       "shopping           -0.116560       NaN     0.818815   0.526356   0.743321   \n",
       "arts_entertainment -0.067189       NaN     0.726907   0.502837   0.703038   \n",
       "beauty_spas        -0.121075       NaN     0.867829   0.626850   0.777461   \n",
       "active_life        -0.092668       NaN     0.881799   0.574532   0.858836   \n",
       "median_age          0.099140       NaN    -0.063816  -0.022377  -0.028611   \n",
       "married             0.122028       NaN    -0.615584  -0.508793  -0.568811   \n",
       "college_grad       -0.030725       NaN     0.214260  -0.006025   0.253717   \n",
       "property_tax        0.165800       NaN    -0.100821  -0.159506  -0.054386   \n",
       "insurance           0.146579       NaN    -0.019925  -0.093974   0.024551   \n",
       "median_school       0.096551       NaN    -0.068425  -0.354553  -0.036948   \n",
       "num_schools        -0.031535       NaN     0.251171   0.272856   0.196399   \n",
       "tx_year            -0.048207       NaN     0.044739   0.115674   0.027495   \n",
       "\n",
       "                       cafes  shopping  arts_entertainment  beauty_spas  \\\n",
       "tx_price           -0.001398 -0.038246           -0.021076    -0.054349   \n",
       "beds               -0.464289 -0.388670           -0.442168    -0.419832   \n",
       "baths              -0.316836 -0.259603           -0.305885    -0.282008   \n",
       "sqft               -0.300969 -0.275586           -0.293402    -0.310465   \n",
       "year_built         -0.102209 -0.121684           -0.195141    -0.163670   \n",
       "lot_size           -0.098182 -0.116560           -0.067189    -0.121075   \n",
       "basement                 NaN       NaN                 NaN          NaN   \n",
       "restaurants         0.937616  0.818815            0.726907     0.867829   \n",
       "groceries           0.602857  0.526356            0.502837     0.626850   \n",
       "nightlife           0.923901  0.743321            0.703038     0.777461   \n",
       "cafes               1.000000  0.837058            0.694575     0.822541   \n",
       "shopping            0.837058  1.000000            0.653803     0.860987   \n",
       "arts_entertainment  0.694575  0.653803            1.000000     0.757860   \n",
       "beauty_spas         0.822541  0.860987            0.757860     1.000000   \n",
       "active_life         0.826648  0.678515            0.800994     0.785920   \n",
       "median_age          0.026400  0.032339           -0.014640    -0.002961   \n",
       "married            -0.581850 -0.454072           -0.554533    -0.510331   \n",
       "college_grad        0.266652  0.177383            0.239129     0.177066   \n",
       "property_tax       -0.044410 -0.040556           -0.066346    -0.057293   \n",
       "insurance           0.036502  0.018846            0.015380     0.010980   \n",
       "median_school      -0.027868 -0.048058           -0.138266    -0.098727   \n",
       "num_schools         0.224312  0.228988            0.214163     0.262651   \n",
       "tx_year             0.013558 -0.000324            0.034356     0.008066   \n",
       "\n",
       "                    active_life  median_age   married  college_grad  \\\n",
       "tx_price              -0.001165    0.126335  0.200494      0.268577   \n",
       "beds                  -0.486957    0.133711  0.643240     -0.082354   \n",
       "baths                 -0.329736    0.095844  0.442225      0.016097   \n",
       "sqft                  -0.332663    0.109811  0.480167      0.065343   \n",
       "year_built            -0.134919   -0.237152  0.038208     -0.014204   \n",
       "lot_size              -0.092668    0.099140  0.122028     -0.030725   \n",
       "basement                    NaN         NaN       NaN           NaN   \n",
       "restaurants            0.881799   -0.063816 -0.615584      0.214260   \n",
       "groceries              0.574532   -0.022377 -0.508793     -0.006025   \n",
       "nightlife              0.858836   -0.028611 -0.568811      0.253717   \n",
       "cafes                  0.826648    0.026400 -0.581850      0.266652   \n",
       "shopping               0.678515    0.032339 -0.454072      0.177383   \n",
       "arts_entertainment     0.800994   -0.014640 -0.554533      0.239129   \n",
       "beauty_spas            0.785920   -0.002961 -0.510331      0.177066   \n",
       "active_life            1.000000   -0.081159 -0.632052      0.323985   \n",
       "median_age            -0.081159    1.000000  0.045555      0.169749   \n",
       "married               -0.632052    0.045555  1.000000     -0.143461   \n",
       "college_grad           0.323985    0.169749 -0.143461      1.000000   \n",
       "property_tax          -0.057646    0.215435  0.305330      0.287933   \n",
       "insurance              0.030911    0.232503  0.233701      0.326057   \n",
       "median_school          0.007675   -0.002861  0.169439      0.400306   \n",
       "num_schools            0.235246    0.071455 -0.212870      0.049756   \n",
       "tx_year                0.028759   -0.118490 -0.134787     -0.189932   \n",
       "\n",
       "                    property_tax  insurance  median_school  num_schools  \\\n",
       "tx_price                0.535148   0.532947       0.175762    -0.014380   \n",
       "beds                    0.547643   0.485776       0.137309    -0.124359   \n",
       "baths                   0.525776   0.475430       0.163365    -0.088299   \n",
       "sqft                    0.660264   0.594049       0.220669    -0.102032   \n",
       "year_built             -0.046504  -0.109521       0.155835    -0.188106   \n",
       "lot_size                0.165800   0.146579       0.096551    -0.031535   \n",
       "basement                     NaN        NaN            NaN          NaN   \n",
       "restaurants            -0.100821  -0.019925      -0.068425     0.251171   \n",
       "groceries              -0.159506  -0.093974      -0.354553     0.272856   \n",
       "nightlife              -0.054386   0.024551      -0.036948     0.196399   \n",
       "cafes                  -0.044410   0.036502      -0.027868     0.224312   \n",
       "shopping               -0.040556   0.018846      -0.048058     0.228988   \n",
       "arts_entertainment     -0.066346   0.015380      -0.138266     0.214163   \n",
       "beauty_spas            -0.057293   0.010980      -0.098727     0.262651   \n",
       "active_life            -0.057646   0.030911       0.007675     0.235246   \n",
       "median_age              0.215435   0.232503      -0.002861     0.071455   \n",
       "married                 0.305330   0.233701       0.169439    -0.212870   \n",
       "college_grad            0.287933   0.326057       0.400306     0.049756   \n",
       "property_tax            1.000000   0.984724       0.237455     0.037342   \n",
       "insurance               0.984724   1.000000       0.234889     0.056985   \n",
       "median_school           0.237455   0.234889       1.000000    -0.145572   \n",
       "num_schools             0.037342   0.056985      -0.145572     1.000000   \n",
       "tx_year                -0.257703  -0.254706      -0.167141     0.007361   \n",
       "\n",
       "                     tx_year  \n",
       "tx_price            0.108782  \n",
       "beds               -0.174081  \n",
       "baths              -0.132110  \n",
       "sqft               -0.236190  \n",
       "year_built         -0.043301  \n",
       "lot_size           -0.048207  \n",
       "basement                 NaN  \n",
       "restaurants         0.044739  \n",
       "groceries           0.115674  \n",
       "nightlife           0.027495  \n",
       "cafes               0.013558  \n",
       "shopping           -0.000324  \n",
       "arts_entertainment  0.034356  \n",
       "beauty_spas         0.008066  \n",
       "active_life         0.028759  \n",
       "median_age         -0.118490  \n",
       "married            -0.134787  \n",
       "college_grad       -0.189932  \n",
       "property_tax       -0.257703  \n",
       "insurance          -0.254706  \n",
       "median_school      -0.167141  \n",
       "num_schools         0.007361  \n",
       "tx_year             1.000000  "
      ]
     },
     "execution_count": 18,
     "metadata": {},
     "output_type": "execute_result"
    }
   ],
   "source": [
    "# Calculate correlations between numeric features\n",
    "correlations = df.corr()\n",
    "correlations"
   ]
  },
  {
   "cell_type": "code",
   "execution_count": 19,
   "metadata": {},
   "outputs": [
    {
     "data": {
      "text/plain": [
       "<matplotlib.axes._subplots.AxesSubplot at 0x1dbdea46748>"
      ]
     },
     "execution_count": 19,
     "metadata": {},
     "output_type": "execute_result"
    },
    {
     "data": {
      "image/png": "[encoded data removed]",
      "text/plain": [
       "<Figure size 720x576 with 1 Axes>"
      ]
     },
     "metadata": {},
     "output_type": "display_data"
    }
   ],
   "source": [
    "# Change color scheme\n",
    "sns.set_style('white')\n",
    "\n",
    "# Make the figsize 10 x 8\n",
    "plt.figure(figsize=(10,8))\n",
    "\n",
    "# Generate a mask for the upper triangle\n",
    "bool_mask = np.zeros_like(correlations)\n",
    "bool_mask[np.triu_indices_from(correlations)]=1\n",
    "\n",
    "# Plot heatmap of correlations\n",
    "sns.heatmap(correlations*100,\n",
    "            annot=True,\n",
    "            fmt='.0f',\n",
    "            cmap='RdBu_r',\n",
    "            cbar=False,\n",
    "            mask=bool_mask)"
   ]
  },
  {
   "cell_type": "markdown",
   "metadata": {},
   "source": [
    "## <strong style=\"color:RoyalBlue\">Data Cleaning</strong>"
   ]
  },
  {
   "cell_type": "code",
   "execution_count": 20,
   "metadata": {},
   "outputs": [],
   "source": [
    "# Change color scheme\n",
    "sns.set_style('darkgrid')"
   ]
  },
  {
   "cell_type": "code",
   "execution_count": 21,
   "metadata": {},
   "outputs": [
    {
     "data": {
      "text/plain": [
       "0"
      ]
     },
     "execution_count": 21,
     "metadata": {},
     "output_type": "execute_result"
    }
   ],
   "source": [
    "# Are there any duplicates?\n",
    "df.duplicated().sum()"
   ]
  },
  {
   "cell_type": "code",
   "execution_count": 22,
   "metadata": {},
   "outputs": [
    {
     "data": {
      "text/plain": [
       "array([nan,  1.])"
      ]
     },
     "execution_count": 22,
     "metadata": {},
     "output_type": "execute_result"
    }
   ],
   "source": [
    "# Display unique values of 'basement'\n",
    "df.basement.unique()"
   ]
  },
  {
   "cell_type": "code",
   "execution_count": 23,
   "metadata": {},
   "outputs": [],
   "source": [
    "# Missing basement values should be 0\n",
    "df.basement.fillna(0, inplace=True)"
   ]
  },
  {
   "cell_type": "code",
   "execution_count": 24,
   "metadata": {},
   "outputs": [
    {
     "data": {
      "text/plain": [
       "array([0., 1.])"
      ]
     },
     "execution_count": 24,
     "metadata": {},
     "output_type": "execute_result"
    }
   ],
   "source": [
    "df.basement.unique()"
   ]
  },
  {
   "cell_type": "code",
   "execution_count": 25,
   "metadata": {},
   "outputs": [],
   "source": [
    "# 'composition' should be 'Composition'\n",
    "df.roof.replace('composition', 'Composition', inplace=True)\n",
    "\n",
    "# 'asphalt' should be 'Asphalt'\n",
    "df.roof.replace('asphalt', 'Asphalt', inplace=True)\n",
    "\n",
    "# 'shake-shingle' and 'asphalt,shake-shingle' should be 'Shake Shingle'\n",
    "df.roof.replace(['shake-shingle', 'asphalt,shake-shingle'], 'Shake Shingle', inplace=True)"
   ]
  },
  {
   "cell_type": "code",
   "execution_count": 26,
   "metadata": {},
   "outputs": [
    {
     "data": {
      "image/png": "[encoded data removed]",
      "text/plain": [
       "<Figure size 432x288 with 1 Axes>"
      ]
     },
     "metadata": {},
     "output_type": "display_data"
    }
   ],
   "source": [
    "sns.countplot(y='roof', data=df)\n",
    "plt.show()"
   ]
  },
  {
   "cell_type": "code",
   "execution_count": 27,
   "metadata": {},
   "outputs": [],
   "source": [
    "df.exterior_walls.replace(['Concrete', 'Block'], 'Concrete Block', inplace=True)\n",
    "\n",
    "df.exterior_walls.replace('Rock, Stone', 'Masonry', inplace=True)"
   ]
  },
  {
   "cell_type": "code",
   "execution_count": 28,
   "metadata": {},
   "outputs": [
    {
     "data": {
      "image/png": "[encoded data removed]",
      "text/plain": [
       "<Figure size 432x288 with 1 Axes>"
      ]
     },
     "metadata": {},
     "output_type": "display_data"
    }
   ],
   "source": [
    "sns.countplot(y='exterior_walls', data=df)\n",
    "plt.show()"
   ]
  },
  {
   "cell_type": "code",
   "execution_count": 29,
   "metadata": {},
   "outputs": [],
   "source": [
    "# Fill missing values in exterior_walls with 'Missing'\n",
    "df.exterior_walls.fillna('Missing', inplace=True)\n",
    "\n",
    "# Fill missing values in roof with 'Missing'\n",
    "df.roof.fillna('Missing', inplace=True)"
   ]
  },
  {
   "cell_type": "code",
   "execution_count": 30,
   "metadata": {},
   "outputs": [
    {
     "data": {
      "text/plain": [
       "tx_price              0\n",
       "beds                  0\n",
       "baths                 0\n",
       "sqft                  0\n",
       "year_built            0\n",
       "lot_size              0\n",
       "property_type         0\n",
       "exterior_walls        0\n",
       "roof                  0\n",
       "basement              0\n",
       "restaurants           0\n",
       "groceries             0\n",
       "nightlife             0\n",
       "cafes                 0\n",
       "shopping              0\n",
       "arts_entertainment    0\n",
       "beauty_spas           0\n",
       "active_life           0\n",
       "median_age            0\n",
       "married               0\n",
       "college_grad          0\n",
       "property_tax          0\n",
       "insurance             0\n",
       "median_school         0\n",
       "num_schools           0\n",
       "tx_year               0\n",
       "dtype: int64"
      ]
     },
     "execution_count": 30,
     "metadata": {},
     "output_type": "execute_result"
    }
   ],
   "source": [
    "df.isna().sum()"
   ]
  },
  {
   "cell_type": "code",
   "execution_count": 31,
   "metadata": {},
   "outputs": [
    {
     "data": {
      "image/png": "[encoded data removed]",
      "text/plain": [
       "<Figure size 432x288 with 1 Axes>"
      ]
     },
     "metadata": {},
     "output_type": "display_data"
    },
    {
     "data": {
      "image/png": "[encoded data removed]",
      "text/plain": [
       "<Figure size 432x288 with 1 Axes>"
      ]
     },
     "metadata": {},
     "output_type": "display_data"
    }
   ],
   "source": [
    "# Box plot of 'tx_price'\n",
    "sns.boxplot(df.tx_price)\n",
    "plt.show()\n",
    "\n",
    "# Violin plot of 'tx_price'\n",
    "sns.violinplot(df.tx_price)\n",
    "plt.show()"
   ]
  },
  {
   "cell_type": "code",
   "execution_count": 32,
   "metadata": {},
   "outputs": [
    {
     "data": {
      "image/png": "[encoded data removed]",
      "text/plain": [
       "<Figure size 432x288 with 1 Axes>"
      ]
     },
     "metadata": {},
     "output_type": "display_data"
    },
    {
     "data": {
      "image/png": "[encoded data removed]",
      "text/plain": [
       "<Figure size 432x288 with 1 Axes>"
      ]
     },
     "metadata": {},
     "output_type": "display_data"
    },
    {
     "data": {
      "image/png": "[encoded data removed]",
      "text/plain": [
       "<Figure size 432x288 with 1 Axes>"
      ]
     },
     "metadata": {},
     "output_type": "display_data"
    },
    {
     "data": {
      "image/png": "[encoded data removed]",
      "text/plain": [
       "<Figure size 432x288 with 1 Axes>"
      ]
     },
     "metadata": {},
     "output_type": "display_data"
    },
    {
     "data": {
      "image/png": "[encoded data removed]",
      "text/plain": [
       "<Figure size 432x288 with 1 Axes>"
      ]
     },
     "metadata": {},
     "output_type": "display_data"
    }
   ],
   "source": [
    "# Violin plot of tx_year\n",
    "sns.violinplot(df.tx_year)\n",
    "plt.show()\n",
    "\n",
    "# Violin plot of property_tax\n",
    "sns.violinplot(df.property_tax)\n",
    "plt.show()\n",
    "\n",
    "# Violin plot of beds\n",
    "sns.violinplot(df.beds)\n",
    "plt.show()\n",
    "\n",
    "# Violin plot of sqft\n",
    "sns.violinplot(df.sqft)\n",
    "plt.show()\n",
    "\n",
    "# Violin plot of lot_size\n",
    "sns.violinplot(df.lot_size)\n",
    "plt.show()"
   ]
  },
  {
   "cell_type": "code",
   "execution_count": 33,
   "metadata": {},
   "outputs": [
    {
     "data": {
      "text/plain": [
       "102     1220551\n",
       "1111     436471\n",
       "1876     436035\n",
       "1832     436035\n",
       "1115     435600\n",
       "Name: lot_size, dtype: int64"
      ]
     },
     "execution_count": 33,
     "metadata": {},
     "output_type": "execute_result"
    }
   ],
   "source": [
    "df.lot_size.sort_values(ascending=False).head()"
   ]
  },
  {
   "cell_type": "markdown",
   "metadata": {},
   "source": [
    "The largest property has a lot_size of 1,220,551 sqft. The next largest has a lot_size of only 436,471 sqft. Holy smokes! Let's look at this observation a bit closer."
   ]
  },
  {
   "cell_type": "code",
   "execution_count": 34,
   "metadata": {},
   "outputs": [
    {
     "data": {
      "text/html": [
       "<div>\n",
       "<style scoped>\n",
       "    .dataframe tbody tr th:only-of-type {\n",
       "        vertical-align: middle;\n",
       "    }\n",
       "\n",
       "    .dataframe tbody tr th {\n",
       "        vertical-align: top;\n",
       "    }\n",
       "\n",
       "    .dataframe thead th {\n",
       "        text-align: right;\n",
       "    }\n",
       "</style>\n",
       "<table border=\"1\" class=\"dataframe\">\n",
       "  <thead>\n",
       "    <tr style=\"text-align: right;\">\n",
       "      <th></th>\n",
       "      <th>tx_price</th>\n",
       "      <th>beds</th>\n",
       "      <th>baths</th>\n",
       "      <th>sqft</th>\n",
       "      <th>year_built</th>\n",
       "      <th>lot_size</th>\n",
       "      <th>property_type</th>\n",
       "      <th>exterior_walls</th>\n",
       "      <th>roof</th>\n",
       "      <th>basement</th>\n",
       "      <th>restaurants</th>\n",
       "      <th>groceries</th>\n",
       "      <th>nightlife</th>\n",
       "      <th>cafes</th>\n",
       "      <th>shopping</th>\n",
       "      <th>arts_entertainment</th>\n",
       "      <th>beauty_spas</th>\n",
       "      <th>active_life</th>\n",
       "      <th>median_age</th>\n",
       "      <th>married</th>\n",
       "      <th>college_grad</th>\n",
       "      <th>property_tax</th>\n",
       "      <th>insurance</th>\n",
       "      <th>median_school</th>\n",
       "      <th>num_schools</th>\n",
       "      <th>tx_year</th>\n",
       "    </tr>\n",
       "  </thead>\n",
       "  <tbody>\n",
       "    <tr>\n",
       "      <th>102</th>\n",
       "      <td>292999</td>\n",
       "      <td>2</td>\n",
       "      <td>1</td>\n",
       "      <td>875</td>\n",
       "      <td>1950</td>\n",
       "      <td>1220551</td>\n",
       "      <td>Apartment / Condo / Townhouse</td>\n",
       "      <td>Brick</td>\n",
       "      <td>Missing</td>\n",
       "      <td>0.0</td>\n",
       "      <td>63</td>\n",
       "      <td>11</td>\n",
       "      <td>11</td>\n",
       "      <td>8</td>\n",
       "      <td>39</td>\n",
       "      <td>18</td>\n",
       "      <td>42</td>\n",
       "      <td>44</td>\n",
       "      <td>33.0</td>\n",
       "      <td>35.0</td>\n",
       "      <td>87.0</td>\n",
       "      <td>230.0</td>\n",
       "      <td>79.0</td>\n",
       "      <td>6.0</td>\n",
       "      <td>3.0</td>\n",
       "      <td>2014</td>\n",
       "    </tr>\n",
       "  </tbody>\n",
       "</table>\n",
       "</div>"
      ],
      "text/plain": [
       "     tx_price  beds  baths  sqft  year_built  lot_size  \\\n",
       "102    292999     2      1   875        1950   1220551   \n",
       "\n",
       "                     property_type exterior_walls     roof  basement  \\\n",
       "102  Apartment / Condo / Townhouse          Brick  Missing       0.0   \n",
       "\n",
       "     restaurants  groceries  nightlife  cafes  shopping  arts_entertainment  \\\n",
       "102           63         11         11      8        39                  18   \n",
       "\n",
       "     beauty_spas  active_life  median_age  married  college_grad  \\\n",
       "102           42           44        33.0     35.0          87.0   \n",
       "\n",
       "     property_tax  insurance  median_school  num_schools  tx_year  \n",
       "102         230.0       79.0            6.0          3.0     2014  "
      ]
     },
     "execution_count": 34,
     "metadata": {},
     "output_type": "execute_result"
    }
   ],
   "source": [
    "df[ df.lot_size == df.lot_size.max() ]"
   ]
  },
  {
   "cell_type": "markdown",
   "metadata": {},
   "source": [
    "Since all of the other observations are below 500,000 sqft, let's remove observations with lot_size greater than 500,000 sqft."
   ]
  },
  {
   "cell_type": "code",
   "execution_count": 35,
   "metadata": {},
   "outputs": [
    {
     "data": {
      "text/plain": [
       "(1882, 26)"
      ]
     },
     "execution_count": 35,
     "metadata": {},
     "output_type": "execute_result"
    }
   ],
   "source": [
    "df = df[ df.lot_size <= 500000 ]\n",
    "df.shape"
   ]
  },
  {
   "cell_type": "markdown",
   "metadata": {},
   "source": [
    "## <strong style=\"color:RoyalBlue\">Feature Engineering</strong>"
   ]
  },
  {
   "cell_type": "code",
   "execution_count": 36,
   "metadata": {},
   "outputs": [],
   "source": [
    "df['two_and_two'] = ((df.beds == 2) & (df.baths == 2)).astype(int)"
   ]
  },
  {
   "cell_type": "code",
   "execution_count": 37,
   "metadata": {},
   "outputs": [
    {
     "data": {
      "text/plain": [
       "0.09458023379383634"
      ]
     },
     "execution_count": 37,
     "metadata": {},
     "output_type": "execute_result"
    }
   ],
   "source": [
    "df.two_and_two.mean()"
   ]
  },
  {
   "cell_type": "code",
   "execution_count": 38,
   "metadata": {},
   "outputs": [],
   "source": [
    "# Create a property age feature\n",
    "df['property_age'] = df.tx_year - df.year_built"
   ]
  },
  {
   "cell_type": "code",
   "execution_count": 39,
   "metadata": {},
   "outputs": [
    {
     "data": {
      "text/plain": [
       "19"
      ]
     },
     "execution_count": 39,
     "metadata": {},
     "output_type": "execute_result"
    }
   ],
   "source": [
    "# Should not be less than 0\n",
    "(df.property_age < 0).sum()"
   ]
  },
  {
   "cell_type": "code",
   "execution_count": 40,
   "metadata": {},
   "outputs": [],
   "source": [
    "# Remove records where property_age is less than 0\n",
    "df = df[ df.property_age >= 0 ]"
   ]
  },
  {
   "cell_type": "markdown",
   "metadata": {},
   "source": [
    "Let's group sparse classes in categorical features"
   ]
  },
  {
   "cell_type": "code",
   "execution_count": 41,
   "metadata": {},
   "outputs": [],
   "source": [
    "df.exterior_walls.replace(['Wood Siding', 'Wood Shingle'], 'Wood', inplace=True)\n",
    "\n",
    "other_ex_walls = ['Stucco', 'Concrete Block', 'Masonry', 'Asbestos shingle']\n",
    "df.exterior_walls.replace(other_ex_walls, 'Other', inplace=True)\n",
    "\n",
    "df.roof.replace(['Composition', 'Wood Shake/ Shingles'], 'Composition Shingle', inplace=True)\n",
    "\n",
    "other_roofs = ['Gravel/Rock', 'Roll Composition', 'Slate', 'Built-up', 'Asbestos', 'Metal']\n",
    "df.roof.replace(other_roofs, 'Other', inplace=True)"
   ]
  },
  {
   "cell_type": "markdown",
   "metadata": {},
   "source": [
    "Because we're modeling housing prices in the United States, it's important to consider the housing market recession. According to data from Zillow, the lowest housing prices were from 2010 to end of 2013 (country-wide)."
   ]
  },
  {
   "cell_type": "markdown",
   "metadata": {},
   "source": [
    "Let's create a new feature called 'during_recession' to indicate if a transaction falls between 2010 and 2013."
   ]
  },
  {
   "cell_type": "code",
   "execution_count": 42,
   "metadata": {},
   "outputs": [],
   "source": [
    "df['during_recession'] = df.tx_year.between(2010, 2013).astype(int)"
   ]
  },
  {
   "cell_type": "markdown",
   "metadata": {},
   "source": [
    " Let's create a new feature called 'school_score' that is the product of 'num_schools' and 'median_school'"
   ]
  },
  {
   "cell_type": "code",
   "execution_count": 43,
   "metadata": {},
   "outputs": [],
   "source": [
    "df['school_score'] = ((df.num_schools) * (df.median_school))"
   ]
  },
  {
   "cell_type": "markdown",
   "metadata": {},
   "source": [
    "Let's create Analytical Base Table"
   ]
  },
  {
   "cell_type": "code",
   "execution_count": 44,
   "metadata": {},
   "outputs": [
    {
     "data": {
      "text/plain": [
       "(1863, 42)"
      ]
     },
     "execution_count": 44,
     "metadata": {},
     "output_type": "execute_result"
    }
   ],
   "source": [
    "abt = pd.get_dummies(df, columns=df.columns[df.dtypes=='object'])\n",
    "abt.shape"
   ]
  },
  {
   "cell_type": "markdown",
   "metadata": {},
   "source": [
    "Since we used 'tx_year' and 'year_built' to create the 'property_age' feature, we can remove them."
   ]
  },
  {
   "cell_type": "code",
   "execution_count": 45,
   "metadata": {},
   "outputs": [
    {
     "data": {
      "text/plain": [
       "(1863, 40)"
      ]
     },
     "execution_count": 45,
     "metadata": {},
     "output_type": "execute_result"
    }
   ],
   "source": [
    "abt.drop(['tx_year', 'year_built'], axis=1, inplace=True)\n",
    "abt.shape"
   ]
  },
  {
   "cell_type": "markdown",
   "metadata": {},
   "source": [
    "## <strong style=\"color:RoyalBlue\">Model Training</strong>"
   ]
  },
  {
   "cell_type": "markdown",
   "metadata": {},
   "source": [
    "### Data Spending"
   ]
  },
  {
   "cell_type": "code",
   "execution_count": 46,
   "metadata": {},
   "outputs": [],
   "source": [
    "y = abt.tx_price\n",
    "\n",
    "X = abt.drop('tx_price', axis=1)"
   ]
  },
  {
   "cell_type": "code",
   "execution_count": 47,
   "metadata": {},
   "outputs": [],
   "source": [
    "X_train, X_test, y_train, y_test = train_test_split(X, y, test_size=0.2, random_state=123)"
   ]
  },
  {
   "cell_type": "code",
   "execution_count": 48,
   "metadata": {},
   "outputs": [
    {
     "name": "stdout",
     "output_type": "stream",
     "text": [
      "(1490, 39)\n",
      "(373, 39)\n"
     ]
    }
   ],
   "source": [
    "print(X_train.shape)\n",
    "print(X_test.shape)"
   ]
  },
  {
   "cell_type": "markdown",
   "metadata": {},
   "source": [
    "### Pre-Processing & Pipelines"
   ]
  },
  {
   "cell_type": "code",
   "execution_count": 49,
   "metadata": {},
   "outputs": [],
   "source": [
    "# Create pipelines dictionary\n",
    "pipelines = {\n",
    "    'lasso': make_pipeline(StandardScaler(), Lasso(random_state=123)),\n",
    "    'ridge': make_pipeline(StandardScaler(), Ridge(random_state=123)),\n",
    "    'enet' : make_pipeline(StandardScaler(), ElasticNet(random_state=123)),\n",
    "    'rf'   : make_pipeline(StandardScaler(), RandomForestRegressor(random_state=123)),\n",
    "    'gb'   : make_pipeline(StandardScaler(), GradientBoostingRegressor(random_state=123))\n",
    "}"
   ]
  },
  {
   "cell_type": "markdown",
   "metadata": {},
   "source": [
    "### Hyperparameter Tuning"
   ]
  },
  {
   "cell_type": "code",
   "execution_count": 50,
   "metadata": {},
   "outputs": [],
   "source": [
    "# Lasso hyperparameters\n",
    "lasso_hyperparameters = {\n",
    "    'lasso__alpha': [0.001, 0.005, 0.01, 0.05, 0.1, 0.5, 1, 5, 10]\n",
    "}\n",
    "\n",
    "# Ridge hyperparameters\n",
    "ridge_hyperparameters = {\n",
    "    'ridge__alpha': [0.001, 0.005, 0.01, 0.05, 0.1, 0.5, 1, 5, 10]\n",
    "}\n",
    "\n",
    "# Elastic Net hyperparameters\n",
    "enet_hyperparameters = {\n",
    "    'elasticnet__alpha': [0.001, 0.005, 0.01, 0.05, 0.1, 0.5, 1, 5, 10],\n",
    "    'elasticnet__l1_ratio': [0.1, 0.3, 0.5, 0.7, 0.9]\n",
    "}\n",
    "\n",
    "# Random Forest hyperparameters\n",
    "rf_hyperparameters = {\n",
    "    'randomforestregressor__n_estimators': [100, 200],\n",
    "    'randomforestregressor__max_features': ['auto', 'sqrt', 0.33]\n",
    "}\n",
    "\n",
    "# Gradient Boosting hyperparameters\n",
    "gb_hyperparameters = {\n",
    "    'gradientboostingregressor__n_estimators': [100, 200],\n",
    "    'gradientboostingregressor__learning_rate': [0.05, 0.1, 0.2],\n",
    "    'gradientboostingregressor__max_depth': [1, 3, 5]\n",
    "}"
   ]
  },
  {
   "cell_type": "code",
   "execution_count": 51,
   "metadata": {},
   "outputs": [],
   "source": [
    "# hyperparameters dictionary\n",
    "hyperparameters = {\n",
    "    'lasso': lasso_hyperparameters,\n",
    "    'ridge': ridge_hyperparameters,\n",
    "    'enet' : enet_hyperparameters,\n",
    "    'rf'   : rf_hyperparameters,\n",
    "    'gb'   : gb_hyperparameters\n",
    "}"
   ]
  },
  {
   "cell_type": "markdown",
   "metadata": {},
   "source": [
    "## <strong style=\"color:RoyalBlue\">Algorithm Selection</strong>"
   ]
  },
  {
   "cell_type": "code",
   "execution_count": 52,
   "metadata": {},
   "outputs": [
    {
     "name": "stderr",
     "output_type": "stream",
     "text": [
      "C:\\Users\\Maulik\\anaconda3\\lib\\site-packages\\sklearn\\linear_model\\_coordinate_descent.py:476: ConvergenceWarning: Objective did not converge. You might want to increase the number of iterations. Duality gap: 26252002000.921875, tolerance: 3410007931.2474647\n",
      "  positive)\n"
     ]
    },
    {
     "name": "stdout",
     "output_type": "stream",
     "text": [
      "lasso  has been fitted. Took  15.94704270362854  seconds\n",
      "ridge  has been fitted. Took  2.3490774631500244  seconds\n",
      "enet  has been fitted. Took  16.52875518798828  seconds\n",
      "rf  has been fitted. Took  60.06377077102661  seconds\n",
      "gb  has been fitted. Took  86.42958617210388  seconds\n"
     ]
    }
   ],
   "source": [
    "import time\n",
    "\n",
    "fitted_models = {}\n",
    "\n",
    "for name,pipeline in pipelines.items():\n",
    "    start = time.time()\n",
    "    model = GridSearchCV(pipeline, hyperparameters[name], cv=10, n_jobs=-1)\n",
    "    \n",
    "    model.fit(X_train, y_train)\n",
    "    \n",
    "    fitted_models[name] = model\n",
    "    \n",
    "    end = time.time()\n",
    "    print(name, ' has been fitted. Took ', end - start, ' seconds')"
   ]
  },
  {
   "cell_type": "code",
   "execution_count": 53,
   "metadata": {},
   "outputs": [
    {
     "name": "stdout",
     "output_type": "stream",
     "text": [
      "lasso has been fitted.\n",
      "ridge has been fitted.\n",
      "enet has been fitted.\n",
      "rf has been fitted.\n",
      "gb has been fitted.\n"
     ]
    }
   ],
   "source": [
    "from sklearn.exceptions import NotFittedError\n",
    "\n",
    "for name, model in fitted_models.items():\n",
    "    try:\n",
    "        pred = model.predict(X_test)\n",
    "        print(name, 'has been fitted.')\n",
    "    except NotFittedError as e:\n",
    "        print(repr(e))"
   ]
  },
  {
   "cell_type": "markdown",
   "metadata": {},
   "source": [
    "### Winner Model"
   ]
  },
  {
   "cell_type": "code",
   "execution_count": 54,
   "metadata": {},
   "outputs": [
    {
     "name": "stdout",
     "output_type": "stream",
     "text": [
      "\n",
      "lasso\n",
      "------------\n",
      "R2 : 0.4118769979244269\n",
      "MAE : 90507.3721259686\n",
      "Holdout R2 : 0.2908921395447542\n",
      "\n",
      "ridge\n",
      "------------\n",
      "R2 : 0.4134881534969854\n",
      "MAE : 90412.80855381125\n",
      "Holdout R2 : 0.29574228507449246\n",
      "\n",
      "enet\n",
      "------------\n",
      "R2 : 0.4183586192402585\n",
      "MAE : 91407.87462218083\n",
      "Holdout R2 : 0.32695035387456733\n",
      "\n",
      "rf\n",
      "------------\n",
      "R2 : 0.5235298535090683\n",
      "MAE : 78601.01670241286\n",
      "Holdout R2 : 0.4994690235291005\n",
      "\n",
      "gb\n",
      "------------\n",
      "R2 : 0.5087440634979514\n",
      "MAE : 79397.89624107016\n",
      "Holdout R2 : 0.48908372444787707\n"
     ]
    }
   ],
   "source": [
    "for name,model in fitted_models.items():\n",
    "    pred = model.predict(X_test)\n",
    "    print()\n",
    "    print(name)\n",
    "    print('------------')\n",
    "    print('R2 :', r2_score(y_test, pred))\n",
    "    print('MAE :', mean_absolute_error(y_test, pred))\n",
    "    print('Holdout R2 :', model.best_score_)"
   ]
  },
  {
   "cell_type": "code",
   "execution_count": 55,
   "metadata": {},
   "outputs": [
    {
     "data": {
      "text/plain": [
       "{'randomforestregressor__max_features': 'auto',\n",
       " 'randomforestregressor__n_estimators': 200}"
      ]
     },
     "execution_count": 55,
     "metadata": {},
     "output_type": "execute_result"
    }
   ],
   "source": [
    "# hyperparameters of winning model\n",
    "fitted_models['rf'].best_params_"
   ]
  },
  {
   "cell_type": "code",
   "execution_count": 56,
   "metadata": {},
   "outputs": [
    {
     "data": {
      "text/plain": [
       "Pipeline(memory=None,\n",
       "         steps=[('standardscaler',\n",
       "                 StandardScaler(copy=True, with_mean=True, with_std=True)),\n",
       "                ('randomforestregressor',\n",
       "                 RandomForestRegressor(bootstrap=True, ccp_alpha=0.0,\n",
       "                                       criterion='mse', max_depth=None,\n",
       "                                       max_features='auto', max_leaf_nodes=None,\n",
       "                                       max_samples=None,\n",
       "                                       min_impurity_decrease=0.0,\n",
       "                                       min_impurity_split=None,\n",
       "                                       min_samples_leaf=1, min_samples_split=2,\n",
       "                                       min_weight_fraction_leaf=0.0,\n",
       "                                       n_estimators=200, n_jobs=None,\n",
       "                                       oob_score=False, random_state=123,\n",
       "                                       verbose=0, warm_start=False))],\n",
       "         verbose=False)"
      ]
     },
     "execution_count": 56,
     "metadata": {},
     "output_type": "execute_result"
    }
   ],
   "source": [
    "# winning model\n",
    "fitted_models['rf'].best_estimator_"
   ]
  },
  {
   "cell_type": "markdown",
   "metadata": {},
   "source": [
    "Let's plot the performance of winning model"
   ]
  },
  {
   "cell_type": "code",
   "execution_count": 57,
   "metadata": {},
   "outputs": [
    {
     "data": {
      "text/plain": [
       "Text(0, 0.5, 'Actual')"
      ]
     },
     "execution_count": 57,
     "metadata": {},
     "output_type": "execute_result"
    },
    {
     "data": {
      "image/png": "[encoded data removed]",
      "text/plain": [
       "<Figure size 432x288 with 1 Axes>"
      ]
     },
     "metadata": {},
     "output_type": "display_data"
    }
   ],
   "source": [
    "plt.scatter(fitted_models['rf'].predict(X_test), y_test, alpha=0.25, s=200)\n",
    "plt.xlabel('Predicted')\n",
    "plt.ylabel('Actual')"
   ]
  }
 ],
 "metadata": {
  "kernelspec": {
   "display_name": "Python 3",
   "language": "python",
   "name": "python3"
  },
  "language_info": {
   "codemirror_mode": {
    "name": "ipython",
    "version": 3
   },
   "file_extension": ".py",
   "mimetype": "text/x-python",
   "name": "python",
   "nbconvert_exporter": "python",
   "pygments_lexer": "ipython3",
   "version": "3.7.6"
  }
 },
 "nbformat": 4,
 "nbformat_minor": 4
}
